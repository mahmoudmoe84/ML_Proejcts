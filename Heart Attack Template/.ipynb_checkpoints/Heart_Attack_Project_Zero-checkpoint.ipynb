{
 "cells": [
  {
   "cell_type": "markdown",
   "id": "composed-hotel",
   "metadata": {
    "papermill": {
     "duration": 0.043518,
     "end_time": "2021-04-15T19:36:59.344946",
     "exception": false,
     "start_time": "2021-04-15T19:36:59.301428",
     "status": "completed"
    },
    "tags": []
   },
   "source": [
    "<h1 align=\"center\">Heart Attack - EDA</h1>"
   ]
  },
  {
   "cell_type": "markdown",
   "id": "accepting-blowing",
   "metadata": {
    "_kg_hide-input": false,
    "papermill": {
     "duration": 0.039313,
     "end_time": "2021-04-15T19:36:59.425051",
     "exception": false,
     "start_time": "2021-04-15T19:36:59.385738",
     "status": "completed"
    },
    "tags": []
   },
   "source": [
    "1. [Introduction](#1)\n",
    "    - 1.1 [Data Dictionary](#2)\n",
    "    - 1.2 [Task](#3)\n",
    "    - 1.3 [Understanding Data](#21)\n",
    "2. [Preparation](#4)\n",
    "    - 2.1 [Packages](#5)\n",
    "    - 2.2 [Data](#6)\n",
    "    - 2.3 [Understanding Data](#7)\n",
    "3. [Exploratory Data Analysis](#8)\n",
    "    - 3.1 [Univariate Analysis](#9)\n",
    "    - 3.2 [Bivariate Analysis](#10)\n",
    "4. [Data Preprocessing](#11)\n",
    "    - 4.1 [Conclusions from the EDA](#12)\n",
    "    - 4.2 [Packages](#13)\n",
    "    - 4.3 [Making features model ready](#14)\n",
    "5. [Modeling](#15)\n",
    "    - 5.1 [Linear Classifiers](#16)\n",
    "    - 5.2 [Tree Models](#17)\n",
    "    "
   ]
  },
  {
   "cell_type": "markdown",
   "id": "north-dairy",
   "metadata": {
    "papermill": {
     "duration": 0.041568,
     "end_time": "2021-04-15T19:36:59.506290",
     "exception": false,
     "start_time": "2021-04-15T19:36:59.464722",
     "status": "completed"
    },
    "tags": []
   },
   "source": [
    "### 1. Introduction <a id=1></a>"
   ]
  },
  {
   "cell_type": "markdown",
   "id": "plastic-somalia",
   "metadata": {
    "papermill": {
     "duration": 0.039613,
     "end_time": "2021-04-15T19:36:59.588054",
     "exception": false,
     "start_time": "2021-04-15T19:36:59.548441",
     "status": "completed"
    },
    "tags": []
   },
   "source": [
    "#### 1.1 Data Dictionary <a id=2></a>\n",
    "`age` - Age of the patient\n",
    "\n",
    "`sex` - Sex of the patient\n",
    "\n",
    "`cp` - Chest pain type ~ 0 = Typical Angina, 1 = Atypical Angina, 2 = Non-anginal Pain, 3 = Asymptomatic\n",
    "\n",
    "`trtbps` - Resting blood pressure (in mm Hg)\n",
    "\n",
    "`chol` - Cholestoral in mg/dl fetched via BMI sensor\n",
    "\n",
    "`fbs` - (fasting blood sugar > 120 mg/dl) ~ 1 = True, 0 = False\n",
    "\n",
    "`restecg` - Resting electrocardiographic results ~ 0 = Normal, 1 = ST-T wave normality, 2 = Left ventricular hypertrophy\n",
    "\n",
    "`thalachh`  - Maximum heart rate achieved\n",
    "\n",
    "`oldpeak` - Previous peak\n",
    "\n",
    "`slp` - Slope\n",
    "\n",
    "`caa` - Number of major vessels \n",
    "\n",
    "`thall` - Thalium Stress Test result ~ (0,3)\n",
    "\n",
    "`exng` - Exercise induced angina ~ 1 = Yes, 0 = No\n",
    "\n",
    "`output` - Target variable\n",
    "\n",
    "**Additional Variables Explaination from Kaggle**\n",
    "\n",
    "**age** - age in years\n",
    "\n",
    "**sex** - sex (1 = male; 0 = female)\n",
    "\n",
    "**cp** - chest pain type (1 = typical angina; 2 = atypical angina; 3 = non-anginal pain; 0 = asymptomatic)\n",
    "\n",
    "**trestbps** - resting blood pressure (in mm Hg on admission to the hospital)\n",
    "\n",
    "**chol** - serum cholestoral in mg/dl\n",
    "\n",
    "**fbs** - fasting blood sugar > 120 mg/dl (1 = true; 0 = false)\n",
    "\n",
    "**restecg** - resting electrocardiographic results (1 = normal; 2 = having ST-T wave abnormality; 0 = hypertrophy)\n",
    "\n",
    "**thalach** - maximum heart rate achieved\n",
    "\n",
    "**exang** - exercise induced angina (1 = yes; 0 = no)\n",
    "\n",
    "**oldpeak** - ST depression induced by exercise relative to rest\n",
    "\n",
    "**slope** - the slope of the peak exercise ST segment (2 = upsloping; 1 = flat; 0 = downsloping)\n",
    "\n",
    "**ca** - number of major vessels (0-3) colored by flourosopy\n",
    "\n",
    "**thal** - 2 = normal; 1 = fixed defect; 3 = reversable defect\n",
    "\n",
    "**num** - the predicted attribute - diagnosis of heart disease (angiographic disease status) (Value 0 = < diameter narrowing; Value 1 = > 50% diameter narrowing)\n",
    "\n",
    "    Variable definition can be found in the discussion section"
   ]
  },
  {
   "cell_type": "markdown",
   "id": "renewable-cambridge",
   "metadata": {
    "papermill": {
     "duration": 0.038969,
     "end_time": "2021-04-15T19:36:59.666265",
     "exception": false,
     "start_time": "2021-04-15T19:36:59.627296",
     "status": "completed"
    },
    "tags": []
   },
   "source": [
    "#### 1.2 Task <a id=3></a>\n",
    "To perform EDA and predict if a person is prone to a heart attack or not."
   ]
  },
  {
   "cell_type": "markdown",
   "id": "4d7d65bc",
   "metadata": {},
   "source": [
    "#### 1.3 Understanding Data <a id=21></a>\n",
    "* What is Heart Attack?\n",
    "\n",
    "\n",
    "\n",
    "\n",
    "\n",
    "* How does it Happen?\n",
    "\n",
    "\n",
    "\n",
    "\n",
    "* What are the most contributing Factors for heart attack to happen ?\n",
    "\n",
    "\n",
    "\n",
    "* symptoms of heart attack for male and female?\n"
   ]
  },
  {
   "cell_type": "markdown",
   "id": "instrumental-spiritual",
   "metadata": {
    "papermill": {
     "duration": 0.037702,
     "end_time": "2021-04-15T19:36:59.744606",
     "exception": false,
     "start_time": "2021-04-15T19:36:59.706904",
     "status": "completed"
    },
    "tags": []
   },
   "source": [
    "### 2. Preparation <a id=4></a>"
   ]
  },
  {
   "cell_type": "markdown",
   "id": "constitutional-reservoir",
   "metadata": {
    "papermill": {
     "duration": 0.039036,
     "end_time": "2021-04-15T19:36:59.823850",
     "exception": false,
     "start_time": "2021-04-15T19:36:59.784814",
     "status": "completed"
    },
    "tags": []
   },
   "source": [
    "#### 2.1 Packages <a id=5></a>"
   ]
  },
  {
   "cell_type": "code",
   "execution_count": 1,
   "id": "upset-inspection",
   "metadata": {
    "_kg_hide-input": true,
    "execution": {
     "iopub.execute_input": "2021-04-15T19:36:59.908680Z",
     "iopub.status.busy": "2021-04-15T19:36:59.907973Z",
     "iopub.status.idle": "2021-04-15T19:37:01.013279Z",
     "shell.execute_reply": "2021-04-15T19:37:01.012321Z"
    },
    "papermill": {
     "duration": 1.150168,
     "end_time": "2021-04-15T19:37:01.013451",
     "exception": false,
     "start_time": "2021-04-15T19:36:59.863283",
     "status": "completed"
    },
    "tags": []
   },
   "outputs": [],
   "source": [
    "import pandas as pd \n",
    "import numpy as np \n",
    "import matplotlib.pyplot as plt\n",
    "import seaborn as sns \n",
    "%matplotlib inline "
   ]
  },
  {
   "cell_type": "markdown",
   "id": "abroad-publication",
   "metadata": {
    "papermill": {
     "duration": 0.037754,
     "end_time": "2021-04-15T19:37:01.089461",
     "exception": false,
     "start_time": "2021-04-15T19:37:01.051707",
     "status": "completed"
    },
    "tags": []
   },
   "source": [
    "#### 2.2 Data <a id=6></a>"
   ]
  },
  {
   "cell_type": "code",
   "execution_count": null,
   "id": "sealed-jacket",
   "metadata": {
    "_kg_hide-input": true,
    "execution": {
     "iopub.execute_input": "2021-04-15T19:37:01.170959Z",
     "iopub.status.busy": "2021-04-15T19:37:01.170306Z",
     "iopub.status.idle": "2021-04-15T19:37:01.189445Z",
     "shell.execute_reply": "2021-04-15T19:37:01.188845Z"
    },
    "papermill": {
     "duration": 0.062205,
     "end_time": "2021-04-15T19:37:01.189700",
     "exception": false,
     "start_time": "2021-04-15T19:37:01.127495",
     "status": "completed"
    },
    "tags": []
   },
   "outputs": [],
   "source": [
    "cleavland = pd.read_csv('processed.cleveland.data',encoding=o'latin1')\n",
    "hungarian = pd.read_csv()"
   ]
  },
  {
   "cell_type": "markdown",
   "id": "forced-typing",
   "metadata": {
    "papermill": {
     "duration": 0.037554,
     "end_time": "2021-04-15T19:37:01.265717",
     "exception": false,
     "start_time": "2021-04-15T19:37:01.228163",
     "status": "completed"
    },
    "tags": []
   },
   "source": [
    "#### 2.3 Understanding Data <a id=7></a>"
   ]
  },
  {
   "cell_type": "markdown",
   "id": "subsequent-disposal",
   "metadata": {
    "papermill": {
     "duration": 0.037585,
     "end_time": "2021-04-15T19:37:01.341030",
     "exception": false,
     "start_time": "2021-04-15T19:37:01.303445",
     "status": "completed"
    },
    "tags": []
   },
   "source": [
    "##### 2.3.1 The shape of the data"
   ]
  },
  {
   "cell_type": "code",
   "execution_count": null,
   "id": "compressed-halifax",
   "metadata": {
    "_kg_hide-input": true,
    "execution": {
     "iopub.execute_input": "2021-04-15T19:37:01.424513Z",
     "iopub.status.busy": "2021-04-15T19:37:01.422952Z",
     "iopub.status.idle": "2021-04-15T19:37:01.428914Z",
     "shell.execute_reply": "2021-04-15T19:37:01.428215Z"
    },
    "papermill": {
     "duration": 0.047976,
     "end_time": "2021-04-15T19:37:01.429063",
     "exception": false,
     "start_time": "2021-04-15T19:37:01.381087",
     "status": "completed"
    },
    "tags": []
   },
   "outputs": [],
   "source": []
  },
  {
   "cell_type": "markdown",
   "id": "prime-satin",
   "metadata": {
    "papermill": {
     "duration": 0.039189,
     "end_time": "2021-04-15T19:37:01.508578",
     "exception": false,
     "start_time": "2021-04-15T19:37:01.469389",
     "status": "completed"
    },
    "tags": []
   },
   "source": [
    "##### 2.3.2 Preview of the first 5 rows of the data"
   ]
  },
  {
   "cell_type": "code",
   "execution_count": null,
   "id": "false-receiver",
   "metadata": {
    "_kg_hide-input": true,
    "execution": {
     "iopub.execute_input": "2021-04-15T19:37:01.602594Z",
     "iopub.status.busy": "2021-04-15T19:37:01.601924Z",
     "iopub.status.idle": "2021-04-15T19:37:01.627178Z",
     "shell.execute_reply": "2021-04-15T19:37:01.626608Z"
    },
    "papermill": {
     "duration": 0.078221,
     "end_time": "2021-04-15T19:37:01.627324",
     "exception": false,
     "start_time": "2021-04-15T19:37:01.549103",
     "status": "completed"
    },
    "tags": []
   },
   "outputs": [],
   "source": []
  },
  {
   "cell_type": "markdown",
   "id": "published-commonwealth",
   "metadata": {
    "papermill": {
     "duration": 0.039259,
     "end_time": "2021-04-15T19:37:01.706566",
     "exception": false,
     "start_time": "2021-04-15T19:37:01.667307",
     "status": "completed"
    },
    "tags": []
   },
   "source": [
    "##### 2.3.3 Checking the number of unique values in each column"
   ]
  },
  {
   "cell_type": "code",
   "execution_count": null,
   "id": "included-decimal",
   "metadata": {
    "_kg_hide-input": true,
    "execution": {
     "iopub.execute_input": "2021-04-15T19:37:01.806542Z",
     "iopub.status.busy": "2021-04-15T19:37:01.799018Z",
     "iopub.status.idle": "2021-04-15T19:37:01.809702Z",
     "shell.execute_reply": "2021-04-15T19:37:01.810235Z"
    },
    "papermill": {
     "duration": 0.064315,
     "end_time": "2021-04-15T19:37:01.810413",
     "exception": false,
     "start_time": "2021-04-15T19:37:01.746098",
     "status": "completed"
    },
    "tags": []
   },
   "outputs": [],
   "source": []
  },
  {
   "cell_type": "markdown",
   "id": "appointed-junior",
   "metadata": {
    "papermill": {
     "duration": 0.039472,
     "end_time": "2021-04-15T19:37:01.890376",
     "exception": false,
     "start_time": "2021-04-15T19:37:01.850904",
     "status": "completed"
    },
    "tags": []
   },
   "source": [
    "##### 2.3.4 Separating the columns in categorical and continuous"
   ]
  },
  {
   "cell_type": "code",
   "execution_count": null,
   "id": "fifty-person",
   "metadata": {
    "_kg_hide-input": true,
    "execution": {
     "iopub.execute_input": "2021-04-15T19:37:01.975358Z",
     "iopub.status.busy": "2021-04-15T19:37:01.974677Z",
     "iopub.status.idle": "2021-04-15T19:37:01.983131Z",
     "shell.execute_reply": "2021-04-15T19:37:01.983600Z"
    },
    "papermill": {
     "duration": 0.052234,
     "end_time": "2021-04-15T19:37:01.983792",
     "exception": false,
     "start_time": "2021-04-15T19:37:01.931558",
     "status": "completed"
    },
    "tags": []
   },
   "outputs": [],
   "source": []
  },
  {
   "cell_type": "markdown",
   "id": "acoustic-concrete",
   "metadata": {
    "papermill": {
     "duration": 0.040857,
     "end_time": "2021-04-15T19:37:02.065279",
     "exception": false,
     "start_time": "2021-04-15T19:37:02.024422",
     "status": "completed"
    },
    "tags": []
   },
   "source": [
    "##### 2.3.5 Summary statistics"
   ]
  },
  {
   "cell_type": "code",
   "execution_count": null,
   "id": "future-preference",
   "metadata": {
    "_kg_hide-input": true,
    "execution": {
     "iopub.execute_input": "2021-04-15T19:37:02.158481Z",
     "iopub.status.busy": "2021-04-15T19:37:02.157419Z",
     "iopub.status.idle": "2021-04-15T19:37:02.185218Z",
     "shell.execute_reply": "2021-04-15T19:37:02.184598Z"
    },
    "papermill": {
     "duration": 0.078089,
     "end_time": "2021-04-15T19:37:02.185358",
     "exception": false,
     "start_time": "2021-04-15T19:37:02.107269",
     "status": "completed"
    },
    "tags": []
   },
   "outputs": [],
   "source": []
  },
  {
   "cell_type": "markdown",
   "id": "educated-peoples",
   "metadata": {
    "papermill": {
     "duration": 0.040629,
     "end_time": "2021-04-15T19:37:02.267050",
     "exception": false,
     "start_time": "2021-04-15T19:37:02.226421",
     "status": "completed"
    },
    "tags": []
   },
   "source": [
    "##### 2.3.6 Missing values"
   ]
  },
  {
   "cell_type": "code",
   "execution_count": null,
   "id": "driving-exclusion",
   "metadata": {
    "_kg_hide-input": true,
    "execution": {
     "iopub.execute_input": "2021-04-15T19:37:02.357542Z",
     "iopub.status.busy": "2021-04-15T19:37:02.356600Z",
     "iopub.status.idle": "2021-04-15T19:37:02.361199Z",
     "shell.execute_reply": "2021-04-15T19:37:02.361681Z"
    },
    "papermill": {
     "duration": 0.053578,
     "end_time": "2021-04-15T19:37:02.361876",
     "exception": false,
     "start_time": "2021-04-15T19:37:02.308298",
     "status": "completed"
    },
    "tags": []
   },
   "outputs": [],
   "source": []
  },
  {
   "cell_type": "markdown",
   "id": "previous-ticket",
   "metadata": {
    "papermill": {
     "duration": 0.041264,
     "end_time": "2021-04-15T19:37:02.446201",
     "exception": false,
     "start_time": "2021-04-15T19:37:02.404937",
     "status": "completed"
    },
    "tags": []
   },
   "source": [
    "### 3. Exploratory Data Analysis <a id=8></a>"
   ]
  },
  {
   "cell_type": "markdown",
   "id": "rural-miracle",
   "metadata": {
    "papermill": {
     "duration": 0.041421,
     "end_time": "2021-04-15T19:37:02.529523",
     "exception": false,
     "start_time": "2021-04-15T19:37:02.488102",
     "status": "completed"
    },
    "tags": []
   },
   "source": [
    "#### 3.1 Univariate Analysis <a id=9></a>"
   ]
  },
  {
   "cell_type": "markdown",
   "id": "lasting-upper",
   "metadata": {
    "papermill": {
     "duration": 0.041627,
     "end_time": "2021-04-15T19:37:02.612992",
     "exception": false,
     "start_time": "2021-04-15T19:37:02.571365",
     "status": "completed"
    },
    "tags": []
   },
   "source": [
    "##### 3.1.1 Count plot of categorical features"
   ]
  },
  {
   "cell_type": "code",
   "execution_count": null,
   "id": "attached-joseph",
   "metadata": {
    "_kg_hide-input": true,
    "execution": {
     "iopub.execute_input": "2021-04-15T19:37:02.712684Z",
     "iopub.status.busy": "2021-04-15T19:37:02.707359Z",
     "iopub.status.idle": "2021-04-15T19:37:03.759964Z",
     "shell.execute_reply": "2021-04-15T19:37:03.759311Z"
    },
    "papermill": {
     "duration": 1.105125,
     "end_time": "2021-04-15T19:37:03.760116",
     "exception": false,
     "start_time": "2021-04-15T19:37:02.654991",
     "status": "completed"
    },
    "tags": []
   },
   "outputs": [],
   "source": []
  },
  {
   "cell_type": "markdown",
   "id": "mental-residence",
   "metadata": {
    "papermill": {
     "duration": 0.043706,
     "end_time": "2021-04-15T19:37:03.848058",
     "exception": false,
     "start_time": "2021-04-15T19:37:03.804352",
     "status": "completed"
    },
    "tags": []
   },
   "source": [
    "##### 3.1.2 Boxen plot of continuous features"
   ]
  },
  {
   "cell_type": "code",
   "execution_count": null,
   "id": "abandoned-might",
   "metadata": {
    "_kg_hide-input": true,
    "execution": {
     "iopub.execute_input": "2021-04-15T19:37:03.993222Z",
     "iopub.status.busy": "2021-04-15T19:37:03.984172Z",
     "iopub.status.idle": "2021-04-15T19:37:04.582874Z",
     "shell.execute_reply": "2021-04-15T19:37:04.581733Z"
    },
    "papermill": {
     "duration": 0.687814,
     "end_time": "2021-04-15T19:37:04.583033",
     "exception": false,
     "start_time": "2021-04-15T19:37:03.895219",
     "status": "completed"
    },
    "tags": []
   },
   "outputs": [],
   "source": []
  },
  {
   "cell_type": "markdown",
   "id": "numerous-heaven",
   "metadata": {
    "papermill": {
     "duration": 0.045261,
     "end_time": "2021-04-15T19:37:04.674009",
     "exception": false,
     "start_time": "2021-04-15T19:37:04.628748",
     "status": "completed"
    },
    "tags": []
   },
   "source": [
    "##### 3.1.2 Count plot of target"
   ]
  },
  {
   "cell_type": "code",
   "execution_count": null,
   "id": "israeli-brave",
   "metadata": {
    "_kg_hide-input": true,
    "execution": {
     "iopub.execute_input": "2021-04-15T19:37:04.794128Z",
     "iopub.status.busy": "2021-04-15T19:37:04.773754Z",
     "iopub.status.idle": "2021-04-15T19:37:05.006852Z",
     "shell.execute_reply": "2021-04-15T19:37:05.007574Z"
    },
    "papermill": {
     "duration": 0.288182,
     "end_time": "2021-04-15T19:37:05.007794",
     "exception": false,
     "start_time": "2021-04-15T19:37:04.719612",
     "status": "completed"
    },
    "tags": []
   },
   "outputs": [],
   "source": []
  },
  {
   "cell_type": "markdown",
   "id": "aquatic-provider",
   "metadata": {
    "papermill": {
     "duration": 0.047486,
     "end_time": "2021-04-15T19:37:05.102159",
     "exception": false,
     "start_time": "2021-04-15T19:37:05.054673",
     "status": "completed"
    },
    "tags": []
   },
   "source": [
    "#### 3.2 Bivariate Analysis <a id=10></a>"
   ]
  },
  {
   "cell_type": "markdown",
   "id": "improved-crisis",
   "metadata": {
    "papermill": {
     "duration": 0.046411,
     "end_time": "2021-04-15T19:37:05.195744",
     "exception": false,
     "start_time": "2021-04-15T19:37:05.149333",
     "status": "completed"
    },
    "tags": []
   },
   "source": [
    "##### 3.2.1 Correlation matrix of continuous features"
   ]
  },
  {
   "cell_type": "code",
   "execution_count": null,
   "id": "handmade-texture",
   "metadata": {
    "_kg_hide-input": true,
    "execution": {
     "iopub.execute_input": "2021-04-15T19:37:05.292704Z",
     "iopub.status.busy": "2021-04-15T19:37:05.292069Z",
     "iopub.status.idle": "2021-04-15T19:37:05.306686Z",
     "shell.execute_reply": "2021-04-15T19:37:05.306028Z"
    },
    "papermill": {
     "duration": 0.064421,
     "end_time": "2021-04-15T19:37:05.306842",
     "exception": false,
     "start_time": "2021-04-15T19:37:05.242421",
     "status": "completed"
    },
    "tags": []
   },
   "outputs": [],
   "source": []
  },
  {
   "cell_type": "code",
   "execution_count": null,
   "id": "frequent-ordering",
   "metadata": {
    "_kg_hide-input": true,
    "execution": {
     "iopub.execute_input": "2021-04-15T19:37:05.433270Z",
     "iopub.status.busy": "2021-04-15T19:37:05.432569Z",
     "iopub.status.idle": "2021-04-15T19:37:05.675331Z",
     "shell.execute_reply": "2021-04-15T19:37:05.674781Z"
    },
    "papermill": {
     "duration": 0.321607,
     "end_time": "2021-04-15T19:37:05.675485",
     "exception": false,
     "start_time": "2021-04-15T19:37:05.353878",
     "status": "completed"
    },
    "tags": []
   },
   "outputs": [],
   "source": []
  },
  {
   "cell_type": "markdown",
   "id": "worldwide-supplement",
   "metadata": {
    "papermill": {
     "duration": 0.048358,
     "end_time": "2021-04-15T19:37:05.772956",
     "exception": false,
     "start_time": "2021-04-15T19:37:05.724598",
     "status": "completed"
    },
    "tags": []
   },
   "source": [
    "##### 3.2.2 Scatterplot heatmap of dataframe"
   ]
  },
  {
   "cell_type": "code",
   "execution_count": null,
   "id": "foster-carpet",
   "metadata": {
    "_kg_hide-input": true,
    "execution": {
     "iopub.execute_input": "2021-04-15T19:37:05.881001Z",
     "iopub.status.busy": "2021-04-15T19:37:05.880153Z",
     "iopub.status.idle": "2021-04-15T19:37:06.676151Z",
     "shell.execute_reply": "2021-04-15T19:37:06.675600Z"
    },
    "papermill": {
     "duration": 0.853355,
     "end_time": "2021-04-15T19:37:06.676291",
     "exception": false,
     "start_time": "2021-04-15T19:37:05.822936",
     "status": "completed"
    },
    "tags": []
   },
   "outputs": [],
   "source": []
  },
  {
   "cell_type": "markdown",
   "id": "polish-wichita",
   "metadata": {
    "papermill": {
     "duration": 0.051455,
     "end_time": "2021-04-15T19:37:06.780581",
     "exception": false,
     "start_time": "2021-04-15T19:37:06.729126",
     "status": "completed"
    },
    "tags": []
   },
   "source": [
    "##### 3.2.3 Distribution of continuous features according to target variable"
   ]
  },
  {
   "cell_type": "code",
   "execution_count": null,
   "id": "returning-arcade",
   "metadata": {
    "_kg_hide-input": true,
    "execution": {
     "iopub.execute_input": "2021-04-15T19:37:06.896073Z",
     "iopub.status.busy": "2021-04-15T19:37:06.895293Z",
     "iopub.status.idle": "2021-04-15T19:37:08.358297Z",
     "shell.execute_reply": "2021-04-15T19:37:08.357696Z"
    },
    "papermill": {
     "duration": 1.525006,
     "end_time": "2021-04-15T19:37:08.358440",
     "exception": false,
     "start_time": "2021-04-15T19:37:06.833434",
     "status": "completed"
    },
    "tags": []
   },
   "outputs": [],
   "source": []
  },
  {
   "cell_type": "markdown",
   "id": "interior-sacrifice",
   "metadata": {
    "papermill": {
     "duration": 0.057422,
     "end_time": "2021-04-15T19:37:08.474898",
     "exception": false,
     "start_time": "2021-04-15T19:37:08.417476",
     "status": "completed"
    },
    "tags": []
   },
   "source": [
    "##### 3.2.4 Some other relations that seemed intuitive"
   ]
  },
  {
   "cell_type": "code",
   "execution_count": null,
   "id": "mysterious-jonathan",
   "metadata": {
    "_kg_hide-input": true,
    "_kg_hide-output": false,
    "execution": {
     "iopub.execute_input": "2021-04-15T19:37:08.626011Z",
     "iopub.status.busy": "2021-04-15T19:37:08.620270Z",
     "iopub.status.idle": "2021-04-15T19:37:10.434999Z",
     "shell.execute_reply": "2021-04-15T19:37:10.435514Z"
    },
    "papermill": {
     "duration": 1.901616,
     "end_time": "2021-04-15T19:37:10.435706",
     "exception": false,
     "start_time": "2021-04-15T19:37:08.534090",
     "status": "completed"
    },
    "tags": []
   },
   "outputs": [],
   "source": []
  },
  {
   "cell_type": "markdown",
   "id": "induced-mississippi",
   "metadata": {
    "papermill": {
     "duration": 0.063911,
     "end_time": "2021-04-15T19:37:10.567088",
     "exception": false,
     "start_time": "2021-04-15T19:37:10.503177",
     "status": "completed"
    },
    "tags": []
   },
   "source": [
    "##### 3.2.5 Pairplot according to target variable - one plot to rule them all"
   ]
  },
  {
   "cell_type": "code",
   "execution_count": null,
   "id": "brief-internship",
   "metadata": {
    "_kg_hide-input": true,
    "execution": {
     "iopub.execute_input": "2021-04-15T19:37:10.740641Z",
     "iopub.status.busy": "2021-04-15T19:37:10.727887Z",
     "iopub.status.idle": "2021-04-15T19:37:59.015878Z",
     "shell.execute_reply": "2021-04-15T19:37:59.016414Z"
    },
    "papermill": {
     "duration": 48.386456,
     "end_time": "2021-04-15T19:37:59.016605",
     "exception": false,
     "start_time": "2021-04-15T19:37:10.630149",
     "status": "completed"
    },
    "tags": []
   },
   "outputs": [],
   "source": []
  },
  {
   "cell_type": "markdown",
   "id": "interpreted-credits",
   "metadata": {
    "papermill": {
     "duration": 0.089406,
     "end_time": "2021-04-15T19:37:59.197660",
     "exception": false,
     "start_time": "2021-04-15T19:37:59.108254",
     "status": "completed"
    },
    "tags": []
   },
   "source": [
    "### 4. Data Preprocessing <a id=11></a>"
   ]
  },
  {
   "cell_type": "markdown",
   "id": "studied-spider",
   "metadata": {
    "papermill": {
     "duration": 0.088592,
     "end_time": "2021-04-15T19:37:59.375128",
     "exception": false,
     "start_time": "2021-04-15T19:37:59.286536",
     "status": "completed"
    },
    "tags": []
   },
   "source": [
    "#### 4.1 Conclusions from the EDA <a id=12></a>\n"
   ]
  },
  {
   "cell_type": "markdown",
   "id": "operational-stable",
   "metadata": {
    "papermill": {
     "duration": 0.08877,
     "end_time": "2021-04-15T19:37:59.554396",
     "exception": false,
     "start_time": "2021-04-15T19:37:59.465626",
     "status": "completed"
    },
    "tags": []
   },
   "source": [
    "#### 4.2 Packages <a id=13></a>"
   ]
  },
  {
   "cell_type": "code",
   "execution_count": null,
   "id": "compound-hardwood",
   "metadata": {
    "_kg_hide-input": true,
    "execution": {
     "iopub.execute_input": "2021-04-15T19:37:59.739194Z",
     "iopub.status.busy": "2021-04-15T19:37:59.735502Z",
     "iopub.status.idle": "2021-04-15T19:38:01.970425Z",
     "shell.execute_reply": "2021-04-15T19:38:01.969886Z"
    },
    "papermill": {
     "duration": 2.327343,
     "end_time": "2021-04-15T19:38:01.970580",
     "exception": false,
     "start_time": "2021-04-15T19:37:59.643237",
     "status": "completed"
    },
    "tags": []
   },
   "outputs": [],
   "source": []
  },
  {
   "cell_type": "markdown",
   "id": "helpful-quantum",
   "metadata": {
    "papermill": {
     "duration": 0.08895,
     "end_time": "2021-04-15T19:38:02.149372",
     "exception": false,
     "start_time": "2021-04-15T19:38:02.060422",
     "status": "completed"
    },
    "tags": []
   },
   "source": [
    "\n",
    "#### 4.3 Making features model ready <a id=14></a>"
   ]
  },
  {
   "cell_type": "markdown",
   "id": "heard-crossing",
   "metadata": {
    "papermill": {
     "duration": 0.089838,
     "end_time": "2021-04-15T19:38:02.328385",
     "exception": false,
     "start_time": "2021-04-15T19:38:02.238547",
     "status": "completed"
    },
    "tags": []
   },
   "source": [
    "##### 4.3.1 Scaling and Encoding features"
   ]
  },
  {
   "cell_type": "code",
   "execution_count": null,
   "id": "fresh-throat",
   "metadata": {
    "_kg_hide-input": true,
    "execution": {
     "iopub.execute_input": "2021-04-15T19:38:02.523225Z",
     "iopub.status.busy": "2021-04-15T19:38:02.517957Z",
     "iopub.status.idle": "2021-04-15T19:38:02.564859Z",
     "shell.execute_reply": "2021-04-15T19:38:02.564280Z"
    },
    "papermill": {
     "duration": 0.147518,
     "end_time": "2021-04-15T19:38:02.565021",
     "exception": false,
     "start_time": "2021-04-15T19:38:02.417503",
     "status": "completed"
    },
    "tags": []
   },
   "outputs": [],
   "source": []
  },
  {
   "cell_type": "markdown",
   "id": "regulated-original",
   "metadata": {
    "papermill": {
     "duration": 0.092313,
     "end_time": "2021-04-15T19:38:02.749908",
     "exception": false,
     "start_time": "2021-04-15T19:38:02.657595",
     "status": "completed"
    },
    "tags": []
   },
   "source": [
    "##### 4.3.2 Train and test split"
   ]
  },
  {
   "cell_type": "code",
   "execution_count": null,
   "id": "composed-equilibrium",
   "metadata": {
    "_kg_hide-input": true,
    "execution": {
     "iopub.execute_input": "2021-04-15T19:38:02.949326Z",
     "iopub.status.busy": "2021-04-15T19:38:02.948490Z",
     "iopub.status.idle": "2021-04-15T19:38:02.954236Z",
     "shell.execute_reply": "2021-04-15T19:38:02.953691Z"
    },
    "papermill": {
     "duration": 0.108284,
     "end_time": "2021-04-15T19:38:02.954393",
     "exception": false,
     "start_time": "2021-04-15T19:38:02.846109",
     "status": "completed"
    },
    "tags": []
   },
   "outputs": [],
   "source": []
  },
  {
   "cell_type": "markdown",
   "id": "demonstrated-multiple",
   "metadata": {
    "papermill": {
     "duration": 0.095227,
     "end_time": "2021-04-15T19:38:03.143496",
     "exception": false,
     "start_time": "2021-04-15T19:38:03.048269",
     "status": "completed"
    },
    "tags": []
   },
   "source": [
    "### 5. Modeling <a id=15></a>"
   ]
  },
  {
   "cell_type": "markdown",
   "id": "valuable-institute",
   "metadata": {
    "papermill": {
     "duration": 0.094854,
     "end_time": "2021-04-15T19:38:03.331544",
     "exception": false,
     "start_time": "2021-04-15T19:38:03.236690",
     "status": "completed"
    },
    "tags": []
   },
   "source": [
    "#### 5.1 Linear Classifiers <a id=16></a>"
   ]
  },
  {
   "cell_type": "markdown",
   "id": "flying-sensitivity",
   "metadata": {
    "papermill": {
     "duration": 0.094478,
     "end_time": "2021-04-15T19:38:03.520632",
     "exception": false,
     "start_time": "2021-04-15T19:38:03.426154",
     "status": "completed"
    },
    "tags": []
   },
   "source": [
    "##### 5.1.1 Support Vector Machines"
   ]
  },
  {
   "cell_type": "code",
   "execution_count": null,
   "id": "surprising-evening",
   "metadata": {
    "_kg_hide-input": true,
    "execution": {
     "iopub.execute_input": "2021-04-15T19:38:03.716732Z",
     "iopub.status.busy": "2021-04-15T19:38:03.715948Z",
     "iopub.status.idle": "2021-04-15T19:38:03.728164Z",
     "shell.execute_reply": "2021-04-15T19:38:03.727430Z"
    },
    "papermill": {
     "duration": 0.114333,
     "end_time": "2021-04-15T19:38:03.728333",
     "exception": false,
     "start_time": "2021-04-15T19:38:03.614000",
     "status": "completed"
    },
    "tags": []
   },
   "outputs": [],
   "source": []
  },
  {
   "cell_type": "markdown",
   "id": "modular-associate",
   "metadata": {
    "papermill": {
     "duration": 0.093635,
     "end_time": "2021-04-15T19:38:03.919314",
     "exception": false,
     "start_time": "2021-04-15T19:38:03.825679",
     "status": "completed"
    },
    "tags": []
   },
   "source": [
    "##### 5.1.2 Hyperparameter tuning of SVC"
   ]
  },
  {
   "cell_type": "code",
   "execution_count": null,
   "id": "matched-excerpt",
   "metadata": {
    "_kg_hide-input": true,
    "execution": {
     "iopub.execute_input": "2021-04-15T19:38:04.126394Z",
     "iopub.status.busy": "2021-04-15T19:38:04.120165Z",
     "iopub.status.idle": "2021-04-15T19:38:09.025949Z",
     "shell.execute_reply": "2021-04-15T19:38:09.026504Z"
    },
    "papermill": {
     "duration": 5.012909,
     "end_time": "2021-04-15T19:38:09.026704",
     "exception": false,
     "start_time": "2021-04-15T19:38:04.013795",
     "status": "completed"
    },
    "tags": []
   },
   "outputs": [],
   "source": []
  },
  {
   "cell_type": "markdown",
   "id": "headed-sheep",
   "metadata": {
    "papermill": {
     "duration": 0.094437,
     "end_time": "2021-04-15T19:38:09.217364",
     "exception": false,
     "start_time": "2021-04-15T19:38:09.122927",
     "status": "completed"
    },
    "tags": []
   },
   "source": [
    "##### 5.1.3 Logistic Regression"
   ]
  },
  {
   "cell_type": "code",
   "execution_count": null,
   "id": "allied-warrant",
   "metadata": {
    "_kg_hide-input": true,
    "execution": {
     "iopub.execute_input": "2021-04-15T19:38:09.417427Z",
     "iopub.status.busy": "2021-04-15T19:38:09.416607Z",
     "iopub.status.idle": "2021-04-15T19:38:09.437649Z",
     "shell.execute_reply": "2021-04-15T19:38:09.436787Z"
    },
    "papermill": {
     "duration": 0.124427,
     "end_time": "2021-04-15T19:38:09.437863",
     "exception": false,
     "start_time": "2021-04-15T19:38:09.313436",
     "status": "completed"
    },
    "tags": []
   },
   "outputs": [],
   "source": []
  },
  {
   "cell_type": "markdown",
   "id": "downtown-northwest",
   "metadata": {
    "papermill": {
     "duration": 0.096739,
     "end_time": "2021-04-15T19:38:09.633254",
     "exception": false,
     "start_time": "2021-04-15T19:38:09.536515",
     "status": "completed"
    },
    "tags": []
   },
   "source": [
    "#### 5.2 Tree Models <a id=17></a>"
   ]
  },
  {
   "cell_type": "markdown",
   "id": "appropriate-label",
   "metadata": {
    "papermill": {
     "duration": 0.094855,
     "end_time": "2021-04-15T19:38:09.822913",
     "exception": false,
     "start_time": "2021-04-15T19:38:09.728058",
     "status": "completed"
    },
    "tags": []
   },
   "source": [
    "##### 5.2.1 Decision Tree"
   ]
  },
  {
   "cell_type": "code",
   "execution_count": null,
   "id": "modern-mumbai",
   "metadata": {
    "_kg_hide-input": true,
    "execution": {
     "iopub.execute_input": "2021-04-15T19:38:10.026181Z",
     "iopub.status.busy": "2021-04-15T19:38:10.025298Z",
     "iopub.status.idle": "2021-04-15T19:38:10.035254Z",
     "shell.execute_reply": "2021-04-15T19:38:10.034690Z"
    },
    "papermill": {
     "duration": 0.118192,
     "end_time": "2021-04-15T19:38:10.035406",
     "exception": false,
     "start_time": "2021-04-15T19:38:09.917214",
     "status": "completed"
    },
    "tags": []
   },
   "outputs": [],
   "source": []
  },
  {
   "cell_type": "markdown",
   "id": "apparent-ethnic",
   "metadata": {
    "papermill": {
     "duration": 0.095214,
     "end_time": "2021-04-15T19:38:10.228608",
     "exception": false,
     "start_time": "2021-04-15T19:38:10.133394",
     "status": "completed"
    },
    "tags": []
   },
   "source": [
    "##### 5.2.2 Random Forest"
   ]
  },
  {
   "cell_type": "code",
   "execution_count": null,
   "id": "ancient-mongolia",
   "metadata": {
    "_kg_hide-input": true,
    "execution": {
     "iopub.execute_input": "2021-04-15T19:38:10.480490Z",
     "iopub.status.busy": "2021-04-15T19:38:10.444513Z",
     "iopub.status.idle": "2021-04-15T19:38:10.633085Z",
     "shell.execute_reply": "2021-04-15T19:38:10.632411Z"
    },
    "papermill": {
     "duration": 0.30886,
     "end_time": "2021-04-15T19:38:10.633242",
     "exception": false,
     "start_time": "2021-04-15T19:38:10.324382",
     "status": "completed"
    },
    "tags": []
   },
   "outputs": [],
   "source": []
  },
  {
   "cell_type": "code",
   "execution_count": null,
   "id": "international-dominant",
   "metadata": {
    "papermill": {
     "duration": 0.09499,
     "end_time": "2021-04-15T19:38:11.215836",
     "exception": false,
     "start_time": "2021-04-15T19:38:11.120846",
     "status": "completed"
    },
    "tags": []
   },
   "outputs": [],
   "source": []
  },
  {
   "cell_type": "code",
   "execution_count": null,
   "id": "d345c9bd",
   "metadata": {},
   "outputs": [],
   "source": []
  },
  {
   "cell_type": "markdown",
   "id": "f643436c",
   "metadata": {},
   "source": [
    "#### Conclusion on Algorithms and final outcome"
   ]
  },
  {
   "cell_type": "code",
   "execution_count": null,
   "id": "af77bc3e",
   "metadata": {},
   "outputs": [],
   "source": []
  }
 ],
 "metadata": {
  "kernelspec": {
   "display_name": "Python 3 (ipykernel)",
   "language": "python",
   "name": "python3"
  },
  "language_info": {
   "codemirror_mode": {
    "name": "ipython",
    "version": 3
   },
   "file_extension": ".py",
   "mimetype": "text/x-python",
   "name": "python",
   "nbconvert_exporter": "python",
   "pygments_lexer": "ipython3",
   "version": "3.9.4"
  },
  "papermill": {
   "default_parameters": {},
   "duration": 79.808815,
   "end_time": "2021-04-15T19:38:12.222056",
   "environment_variables": {},
   "exception": null,
   "input_path": "__notebook__.ipynb",
   "output_path": "__notebook__.ipynb",
   "parameters": {},
   "start_time": "2021-04-15T19:36:52.413241",
   "version": "2.3.2"
  }
 },
 "nbformat": 4,
 "nbformat_minor": 5
}
