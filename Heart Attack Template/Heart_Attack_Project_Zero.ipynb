{
 "cells": [
  {
   "cell_type": "markdown",
   "id": "composed-hotel",
   "metadata": {
    "papermill": {
     "duration": 0.043518,
     "end_time": "2021-04-15T19:36:59.344946",
     "exception": false,
     "start_time": "2021-04-15T19:36:59.301428",
     "status": "completed"
    },
    "tags": []
   },
   "source": [
    "<h1 align=\"center\">Heart Attack - EDA</h1>"
   ]
  },
  {
   "cell_type": "markdown",
   "id": "accepting-blowing",
   "metadata": {
    "_kg_hide-input": false,
    "papermill": {
     "duration": 0.039313,
     "end_time": "2021-04-15T19:36:59.425051",
     "exception": false,
     "start_time": "2021-04-15T19:36:59.385738",
     "status": "completed"
    },
    "tags": []
   },
   "source": [
    "1. [Introduction](#1)\n",
    "    - 1.1 [Data Dictionary](#2)\n",
    "    - 1.2 [Task](#3)\n",
    "    - 1.3 [Understanding Data](#21)\n",
    "2. [Preparation](#4)\n",
    "    - 2.1 [Packages](#5)\n",
    "    - 2.2 [Data](#6)\n",
    "    - 2.3 [Understanding Data](#7)\n",
    "3. [Exploratory Data Analysis](#8)\n",
    "    - 3.1 [Univariate Analysis](#9)\n",
    "    - 3.2 [Bivariate Analysis](#10)\n",
    "4. [Data Preprocessing](#11)\n",
    "    - 4.1 [Conclusions from the EDA](#12)\n",
    "    - 4.2 [Packages](#13)\n",
    "    - 4.3 [Making features model ready](#14)\n",
    "5. [Modeling](#15)\n",
    "    - 5.1 [Linear Classifiers](#16)\n",
    "    - 5.2 [Tree Models](#17)\n",
    "    "
   ]
  },
  {
   "cell_type": "markdown",
   "id": "north-dairy",
   "metadata": {
    "papermill": {
     "duration": 0.041568,
     "end_time": "2021-04-15T19:36:59.506290",
     "exception": false,
     "start_time": "2021-04-15T19:36:59.464722",
     "status": "completed"
    },
    "tags": []
   },
   "source": [
    "### 1. Introduction <a id=1></a>"
   ]
  },
  {
   "cell_type": "markdown",
   "id": "plastic-somalia",
   "metadata": {
    "papermill": {
     "duration": 0.039613,
     "end_time": "2021-04-15T19:36:59.588054",
     "exception": false,
     "start_time": "2021-04-15T19:36:59.548441",
     "status": "completed"
    },
    "tags": []
   },
   "source": [
    "#### 1.1 Data Dictionary <a id=2></a>\n",
    "`age` - Age of the patient\n",
    "\n",
    "`sex` - Sex of the patient\n",
    "\n",
    "`cp` - Chest pain type ~ 0 = Typical Angina, 1 = Atypical Angina, 2 = Non-anginal Pain, 3 = Asymptomatic\n",
    "\n",
    "`trtbps` - Resting blood pressure (in mm Hg)\n",
    "\n",
    "`chol` - Cholestoral in mg/dl fetched via BMI sensor\n",
    "\n",
    "`fbs` - (fasting blood sugar > 120 mg/dl) ~ 1 = True, 0 = False\n",
    "\n",
    "`restecg` - Resting electrocardiographic results ~ 0 = Normal, 1 = ST-T wave normality, 2 = Left ventricular hypertrophy\n",
    "\n",
    "`thalachh`  - Maximum heart rate achieved\n",
    "\n",
    "`oldpeak` - Previous peak\n",
    "\n",
    "`slp` - Slope\n",
    "\n",
    "`caa` - Number of major vessels \n",
    "\n",
    "`thall` - Thalium Stress Test result ~ (0,3)\n",
    "\n",
    "`exng` - Exercise induced angina ~ 1 = Yes, 0 = No\n",
    "\n",
    "`output` - Target variable\n",
    "\n",
    "**Additional Variables Explaination from Kaggle**\n",
    "\n",
    "**age** - age in years\n",
    "\n",
    "**sex** - sex (1 = male; 0 = female)\n",
    "\n",
    "**cp** - chest pain type (1 = typical angina; 2 = atypical angina; 3 = non-anginal pain; 0 = asymptomatic)\n",
    "\n",
    "**trestbps** - resting blood pressure (in mm Hg on admission to the hospital)\n",
    "\n",
    "**chol** - serum cholestoral in mg/dl\n",
    "\n",
    "**fbs** - fasting blood sugar > 120 mg/dl (1 = true; 0 = false)\n",
    "\n",
    "**restecg** - resting electrocardiographic results (1 = normal; 2 = having ST-T wave abnormality; 0 = hypertrophy)\n",
    "\n",
    "**thalach** - maximum heart rate achieved\n",
    "\n",
    "**exang** - exercise induced angina (1 = yes; 0 = no)\n",
    "\n",
    "**oldpeak** - ST depression induced by exercise relative to rest\n",
    "\n",
    "**slope** - the slope of the peak exercise ST segment (2 = upsloping; 1 = flat; 0 = downsloping)\n",
    "\n",
    "**ca** - number of major vessels (0-3) colored by flourosopy\n",
    "\n",
    "**thal** - 2 = normal; 1 = fixed defect; 3 = reversable defect\n",
    "\n",
    "**num** - the predicted attribute - diagnosis of heart disease (angiographic disease status) (Value 0 = < diameter narrowing; Value 1 = > 50% diameter narrowing)\n",
    "\n",
    "    Variable definition can be found in the discussion section"
   ]
  },
  {
   "cell_type": "markdown",
   "id": "renewable-cambridge",
   "metadata": {
    "papermill": {
     "duration": 0.038969,
     "end_time": "2021-04-15T19:36:59.666265",
     "exception": false,
     "start_time": "2021-04-15T19:36:59.627296",
     "status": "completed"
    },
    "tags": []
   },
   "source": [
    "#### 1.2 Task <a id=3></a>\n",
    "To perform EDA and predict if a person is prone to a heart attack or not."
   ]
  },
  {
   "cell_type": "markdown",
   "id": "4d7d65bc",
   "metadata": {},
   "source": [
    "#### 1.3 Understanding Data <a id=21></a>\n",
    "* What is Heart Attack?\n",
    "\n",
    "\n",
    "\n",
    "\n",
    "\n",
    "* How does it Happen?\n",
    "\n",
    "\n",
    "\n",
    "\n",
    "* What are the most contributing Factors for heart attack to happen ?\n",
    "\n",
    "\n",
    "\n",
    "* symptoms of heart attack for male and female?\n"
   ]
  },
  {
   "cell_type": "markdown",
   "id": "instrumental-spiritual",
   "metadata": {
    "papermill": {
     "duration": 0.037702,
     "end_time": "2021-04-15T19:36:59.744606",
     "exception": false,
     "start_time": "2021-04-15T19:36:59.706904",
     "status": "completed"
    },
    "tags": []
   },
   "source": [
    "### 2. Preparation <a id=4></a>"
   ]
  },
  {
   "cell_type": "markdown",
   "id": "constitutional-reservoir",
   "metadata": {
    "papermill": {
     "duration": 0.039036,
     "end_time": "2021-04-15T19:36:59.823850",
     "exception": false,
     "start_time": "2021-04-15T19:36:59.784814",
     "status": "completed"
    },
    "tags": []
   },
   "source": [
    "#### 2.1 Packages <a id=5></a>"
   ]
  },
  {
   "cell_type": "code",
   "execution_count": 1,
   "id": "upset-inspection",
   "metadata": {
    "_kg_hide-input": true,
    "execution": {
     "iopub.execute_input": "2021-04-15T19:36:59.908680Z",
     "iopub.status.busy": "2021-04-15T19:36:59.907973Z",
     "iopub.status.idle": "2021-04-15T19:37:01.013279Z",
     "shell.execute_reply": "2021-04-15T19:37:01.012321Z"
    },
    "papermill": {
     "duration": 1.150168,
     "end_time": "2021-04-15T19:37:01.013451",
     "exception": false,
     "start_time": "2021-04-15T19:36:59.863283",
     "status": "completed"
    },
    "tags": []
   },
   "outputs": [],
   "source": [
    "import pandas as pd \n",
    "import numpy as np \n",
    "import matplotlib.pyplot as plt\n",
    "import seaborn as sns \n",
    "%matplotlib inline \n",
    "sns.set()"
   ]
  },
  {
   "cell_type": "markdown",
   "id": "abroad-publication",
   "metadata": {
    "papermill": {
     "duration": 0.037754,
     "end_time": "2021-04-15T19:37:01.089461",
     "exception": false,
     "start_time": "2021-04-15T19:37:01.051707",
     "status": "completed"
    },
    "tags": []
   },
   "source": [
    "#### 2.2 Data <a id=6></a>"
   ]
  },
  {
   "cell_type": "code",
   "execution_count": 2,
   "id": "sealed-jacket",
   "metadata": {
    "_kg_hide-input": true,
    "execution": {
     "iopub.execute_input": "2021-04-15T19:37:01.170959Z",
     "iopub.status.busy": "2021-04-15T19:37:01.170306Z",
     "iopub.status.idle": "2021-04-15T19:37:01.189445Z",
     "shell.execute_reply": "2021-04-15T19:37:01.188845Z"
    },
    "papermill": {
     "duration": 0.062205,
     "end_time": "2021-04-15T19:37:01.189700",
     "exception": false,
     "start_time": "2021-04-15T19:37:01.127495",
     "status": "completed"
    },
    "tags": []
   },
   "outputs": [],
   "source": [
    "cleavland = pd.read_csv('processed.cleveland.data',encoding='latin1',header=None)\n",
    "hungarian = pd.read_csv('processed.hungarian.data',encoding='latin1',header=None)\n",
    "v_data  = pd.read_csv('processed.va.data',encoding='latin1',header=None)\n",
    "switzerland = pd.read_csv('processed.switzerland.data',encoding = 'latin1',header=None)"
   ]
  },
  {
   "cell_type": "code",
   "execution_count": 3,
   "id": "d4dd93d5",
   "metadata": {},
   "outputs": [],
   "source": [
    "column_names  = {\n",
    "    0:'age',\n",
    "    1:'sex',\n",
    "    2:'cp',\n",
    "    3:'trestbps',\n",
    "    4:'chol',\n",
    "    5:'fbs',\n",
    "    6:'restecg',\n",
    "    7:'thalach',\n",
    "    8:'exang',\n",
    "    9:'oldpeak',\n",
    "    10:'slope',\n",
    "    11:'ca',\n",
    "    12:'thal',\n",
    "    13:'target'\n",
    "}"
   ]
  },
  {
   "cell_type": "code",
   "execution_count": 4,
   "id": "d116031b",
   "metadata": {},
   "outputs": [],
   "source": [
    "heart_df = pd.concat([cleavland,hungarian,v_data,switzerland])\n",
    "heart_df.rename(columns=column_names,inplace=True)"
   ]
  },
  {
   "cell_type": "markdown",
   "id": "forced-typing",
   "metadata": {
    "papermill": {
     "duration": 0.037554,
     "end_time": "2021-04-15T19:37:01.265717",
     "exception": false,
     "start_time": "2021-04-15T19:37:01.228163",
     "status": "completed"
    },
    "tags": []
   },
   "source": [
    "#### 2.3 Understanding Data <a id=7></a>"
   ]
  },
  {
   "cell_type": "markdown",
   "id": "subsequent-disposal",
   "metadata": {
    "papermill": {
     "duration": 0.037585,
     "end_time": "2021-04-15T19:37:01.341030",
     "exception": false,
     "start_time": "2021-04-15T19:37:01.303445",
     "status": "completed"
    },
    "tags": []
   },
   "source": [
    "##### 2.3.1 The shape of the data"
   ]
  },
  {
   "cell_type": "code",
   "execution_count": 5,
   "id": "compressed-halifax",
   "metadata": {
    "_kg_hide-input": true,
    "execution": {
     "iopub.execute_input": "2021-04-15T19:37:01.424513Z",
     "iopub.status.busy": "2021-04-15T19:37:01.422952Z",
     "iopub.status.idle": "2021-04-15T19:37:01.428914Z",
     "shell.execute_reply": "2021-04-15T19:37:01.428215Z"
    },
    "papermill": {
     "duration": 0.047976,
     "end_time": "2021-04-15T19:37:01.429063",
     "exception": false,
     "start_time": "2021-04-15T19:37:01.381087",
     "status": "completed"
    },
    "tags": []
   },
   "outputs": [
    {
     "data": {
      "text/plain": [
       "(920, 14)"
      ]
     },
     "execution_count": 5,
     "metadata": {},
     "output_type": "execute_result"
    }
   ],
   "source": [
    "heart_df.shape"
   ]
  },
  {
   "cell_type": "markdown",
   "id": "prime-satin",
   "metadata": {
    "papermill": {
     "duration": 0.039189,
     "end_time": "2021-04-15T19:37:01.508578",
     "exception": false,
     "start_time": "2021-04-15T19:37:01.469389",
     "status": "completed"
    },
    "tags": []
   },
   "source": [
    "##### 2.3.2 Preview of the first 5 rows of the data"
   ]
  },
  {
   "cell_type": "code",
   "execution_count": 6,
   "id": "false-receiver",
   "metadata": {
    "_kg_hide-input": true,
    "execution": {
     "iopub.execute_input": "2021-04-15T19:37:01.602594Z",
     "iopub.status.busy": "2021-04-15T19:37:01.601924Z",
     "iopub.status.idle": "2021-04-15T19:37:01.627178Z",
     "shell.execute_reply": "2021-04-15T19:37:01.626608Z"
    },
    "papermill": {
     "duration": 0.078221,
     "end_time": "2021-04-15T19:37:01.627324",
     "exception": false,
     "start_time": "2021-04-15T19:37:01.549103",
     "status": "completed"
    },
    "tags": []
   },
   "outputs": [
    {
     "data": {
      "text/html": [
       "<div>\n",
       "<style scoped>\n",
       "    .dataframe tbody tr th:only-of-type {\n",
       "        vertical-align: middle;\n",
       "    }\n",
       "\n",
       "    .dataframe tbody tr th {\n",
       "        vertical-align: top;\n",
       "    }\n",
       "\n",
       "    .dataframe thead th {\n",
       "        text-align: right;\n",
       "    }\n",
       "</style>\n",
       "<table border=\"1\" class=\"dataframe\">\n",
       "  <thead>\n",
       "    <tr style=\"text-align: right;\">\n",
       "      <th></th>\n",
       "      <th>age</th>\n",
       "      <th>sex</th>\n",
       "      <th>cp</th>\n",
       "      <th>trestbps</th>\n",
       "      <th>chol</th>\n",
       "      <th>fbs</th>\n",
       "      <th>restecg</th>\n",
       "      <th>thalach</th>\n",
       "      <th>exang</th>\n",
       "      <th>oldpeak</th>\n",
       "      <th>slope</th>\n",
       "      <th>ca</th>\n",
       "      <th>thal</th>\n",
       "      <th>target</th>\n",
       "    </tr>\n",
       "  </thead>\n",
       "  <tbody>\n",
       "    <tr>\n",
       "      <th>0</th>\n",
       "      <td>63.0</td>\n",
       "      <td>1.0</td>\n",
       "      <td>1.0</td>\n",
       "      <td>145.0</td>\n",
       "      <td>233.0</td>\n",
       "      <td>1.0</td>\n",
       "      <td>2.0</td>\n",
       "      <td>150.0</td>\n",
       "      <td>0.0</td>\n",
       "      <td>2.3</td>\n",
       "      <td>3.0</td>\n",
       "      <td>0.0</td>\n",
       "      <td>6.0</td>\n",
       "      <td>0</td>\n",
       "    </tr>\n",
       "    <tr>\n",
       "      <th>1</th>\n",
       "      <td>67.0</td>\n",
       "      <td>1.0</td>\n",
       "      <td>4.0</td>\n",
       "      <td>160.0</td>\n",
       "      <td>286.0</td>\n",
       "      <td>0.0</td>\n",
       "      <td>2.0</td>\n",
       "      <td>108.0</td>\n",
       "      <td>1.0</td>\n",
       "      <td>1.5</td>\n",
       "      <td>2.0</td>\n",
       "      <td>3.0</td>\n",
       "      <td>3.0</td>\n",
       "      <td>2</td>\n",
       "    </tr>\n",
       "    <tr>\n",
       "      <th>2</th>\n",
       "      <td>67.0</td>\n",
       "      <td>1.0</td>\n",
       "      <td>4.0</td>\n",
       "      <td>120.0</td>\n",
       "      <td>229.0</td>\n",
       "      <td>0.0</td>\n",
       "      <td>2.0</td>\n",
       "      <td>129.0</td>\n",
       "      <td>1.0</td>\n",
       "      <td>2.6</td>\n",
       "      <td>2.0</td>\n",
       "      <td>2.0</td>\n",
       "      <td>7.0</td>\n",
       "      <td>1</td>\n",
       "    </tr>\n",
       "    <tr>\n",
       "      <th>3</th>\n",
       "      <td>37.0</td>\n",
       "      <td>1.0</td>\n",
       "      <td>3.0</td>\n",
       "      <td>130.0</td>\n",
       "      <td>250.0</td>\n",
       "      <td>0.0</td>\n",
       "      <td>0.0</td>\n",
       "      <td>187.0</td>\n",
       "      <td>0.0</td>\n",
       "      <td>3.5</td>\n",
       "      <td>3.0</td>\n",
       "      <td>0.0</td>\n",
       "      <td>3.0</td>\n",
       "      <td>0</td>\n",
       "    </tr>\n",
       "    <tr>\n",
       "      <th>4</th>\n",
       "      <td>41.0</td>\n",
       "      <td>0.0</td>\n",
       "      <td>2.0</td>\n",
       "      <td>130.0</td>\n",
       "      <td>204.0</td>\n",
       "      <td>0.0</td>\n",
       "      <td>2.0</td>\n",
       "      <td>172.0</td>\n",
       "      <td>0.0</td>\n",
       "      <td>1.4</td>\n",
       "      <td>1.0</td>\n",
       "      <td>0.0</td>\n",
       "      <td>3.0</td>\n",
       "      <td>0</td>\n",
       "    </tr>\n",
       "  </tbody>\n",
       "</table>\n",
       "</div>"
      ],
      "text/plain": [
       "    age  sex   cp trestbps   chol  fbs restecg thalach exang oldpeak slope  \\\n",
       "0  63.0  1.0  1.0    145.0  233.0  1.0     2.0   150.0   0.0     2.3   3.0   \n",
       "1  67.0  1.0  4.0    160.0  286.0  0.0     2.0   108.0   1.0     1.5   2.0   \n",
       "2  67.0  1.0  4.0    120.0  229.0  0.0     2.0   129.0   1.0     2.6   2.0   \n",
       "3  37.0  1.0  3.0    130.0  250.0  0.0     0.0   187.0   0.0     3.5   3.0   \n",
       "4  41.0  0.0  2.0    130.0  204.0  0.0     2.0   172.0   0.0     1.4   1.0   \n",
       "\n",
       "    ca thal  target  \n",
       "0  0.0  6.0       0  \n",
       "1  3.0  3.0       2  \n",
       "2  2.0  7.0       1  \n",
       "3  0.0  3.0       0  \n",
       "4  0.0  3.0       0  "
      ]
     },
     "execution_count": 6,
     "metadata": {},
     "output_type": "execute_result"
    }
   ],
   "source": [
    "heart_df.head()"
   ]
  },
  {
   "cell_type": "code",
   "execution_count": 7,
   "id": "9d8c0050",
   "metadata": {},
   "outputs": [
    {
     "name": "stdout",
     "output_type": "stream",
     "text": [
      "<class 'pandas.core.frame.DataFrame'>\n",
      "Int64Index: 920 entries, 0 to 122\n",
      "Data columns (total 14 columns):\n",
      " #   Column    Non-Null Count  Dtype  \n",
      "---  ------    --------------  -----  \n",
      " 0   age       920 non-null    float64\n",
      " 1   sex       920 non-null    float64\n",
      " 2   cp        920 non-null    float64\n",
      " 3   trestbps  920 non-null    object \n",
      " 4   chol      920 non-null    object \n",
      " 5   fbs       920 non-null    object \n",
      " 6   restecg   920 non-null    object \n",
      " 7   thalach   920 non-null    object \n",
      " 8   exang     920 non-null    object \n",
      " 9   oldpeak   920 non-null    object \n",
      " 10  slope     920 non-null    object \n",
      " 11  ca        920 non-null    object \n",
      " 12  thal      920 non-null    object \n",
      " 13  target    920 non-null    int64  \n",
      "dtypes: float64(3), int64(1), object(10)\n",
      "memory usage: 107.8+ KB\n"
     ]
    }
   ],
   "source": [
    "heart_df.info()"
   ]
  },
  {
   "cell_type": "code",
   "execution_count": 8,
   "id": "62af6f41",
   "metadata": {},
   "outputs": [
    {
     "data": {
      "text/plain": [
       "age         0\n",
       "sex         0\n",
       "cp          0\n",
       "trestbps    0\n",
       "chol        0\n",
       "fbs         0\n",
       "restecg     0\n",
       "thalach     0\n",
       "exang       0\n",
       "oldpeak     0\n",
       "slope       0\n",
       "ca          0\n",
       "thal        0\n",
       "target      0\n",
       "dtype: int64"
      ]
     },
     "execution_count": 8,
     "metadata": {},
     "output_type": "execute_result"
    }
   ],
   "source": [
    "heart_df.isnull().sum()"
   ]
  },
  {
   "cell_type": "markdown",
   "id": "published-commonwealth",
   "metadata": {
    "papermill": {
     "duration": 0.039259,
     "end_time": "2021-04-15T19:37:01.706566",
     "exception": false,
     "start_time": "2021-04-15T19:37:01.667307",
     "status": "completed"
    },
    "tags": []
   },
   "source": [
    "##### 2.3.3 Checking the number of unique values in each column"
   ]
  },
  {
   "cell_type": "code",
   "execution_count": 9,
   "id": "919b5b2b",
   "metadata": {},
   "outputs": [
    {
     "data": {
      "text/html": [
       "<div>\n",
       "<style scoped>\n",
       "    .dataframe tbody tr th:only-of-type {\n",
       "        vertical-align: middle;\n",
       "    }\n",
       "\n",
       "    .dataframe tbody tr th {\n",
       "        vertical-align: top;\n",
       "    }\n",
       "\n",
       "    .dataframe thead th {\n",
       "        text-align: right;\n",
       "    }\n",
       "</style>\n",
       "<table border=\"1\" class=\"dataframe\">\n",
       "  <thead>\n",
       "    <tr style=\"text-align: right;\">\n",
       "      <th></th>\n",
       "      <th>Unique Values</th>\n",
       "    </tr>\n",
       "  </thead>\n",
       "  <tbody>\n",
       "    <tr>\n",
       "      <th>age</th>\n",
       "      <td>50</td>\n",
       "    </tr>\n",
       "    <tr>\n",
       "      <th>sex</th>\n",
       "      <td>2</td>\n",
       "    </tr>\n",
       "    <tr>\n",
       "      <th>cp</th>\n",
       "      <td>4</td>\n",
       "    </tr>\n",
       "    <tr>\n",
       "      <th>trestbps</th>\n",
       "      <td>103</td>\n",
       "    </tr>\n",
       "    <tr>\n",
       "      <th>chol</th>\n",
       "      <td>336</td>\n",
       "    </tr>\n",
       "    <tr>\n",
       "      <th>fbs</th>\n",
       "      <td>5</td>\n",
       "    </tr>\n",
       "    <tr>\n",
       "      <th>restecg</th>\n",
       "      <td>7</td>\n",
       "    </tr>\n",
       "    <tr>\n",
       "      <th>thalach</th>\n",
       "      <td>198</td>\n",
       "    </tr>\n",
       "    <tr>\n",
       "      <th>exang</th>\n",
       "      <td>5</td>\n",
       "    </tr>\n",
       "    <tr>\n",
       "      <th>oldpeak</th>\n",
       "      <td>82</td>\n",
       "    </tr>\n",
       "    <tr>\n",
       "      <th>slope</th>\n",
       "      <td>7</td>\n",
       "    </tr>\n",
       "    <tr>\n",
       "      <th>ca</th>\n",
       "      <td>8</td>\n",
       "    </tr>\n",
       "    <tr>\n",
       "      <th>thal</th>\n",
       "      <td>7</td>\n",
       "    </tr>\n",
       "    <tr>\n",
       "      <th>target</th>\n",
       "      <td>5</td>\n",
       "    </tr>\n",
       "  </tbody>\n",
       "</table>\n",
       "</div>"
      ],
      "text/plain": [
       "          Unique Values\n",
       "age                  50\n",
       "sex                   2\n",
       "cp                    4\n",
       "trestbps            103\n",
       "chol                336\n",
       "fbs                   5\n",
       "restecg               7\n",
       "thalach             198\n",
       "exang                 5\n",
       "oldpeak              82\n",
       "slope                 7\n",
       "ca                    8\n",
       "thal                  7\n",
       "target                5"
      ]
     },
     "execution_count": 9,
     "metadata": {},
     "output_type": "execute_result"
    }
   ],
   "source": [
    "unique_values = []\n",
    "for i in heart_df.columns:\n",
    "    values = heart_df[i].nunique()\n",
    "    unique_values.append(values)\n",
    "un_value = pd.DataFrame(data=unique_values,index=heart_df.columns,columns=['Unique Values'])\n",
    "un_value"
   ]
  },
  {
   "cell_type": "markdown",
   "id": "appointed-junior",
   "metadata": {
    "papermill": {
     "duration": 0.039472,
     "end_time": "2021-04-15T19:37:01.890376",
     "exception": false,
     "start_time": "2021-04-15T19:37:01.850904",
     "status": "completed"
    },
    "tags": []
   },
   "source": [
    "##### 2.3.4 Separating the columns in categorical and continuous"
   ]
  },
  {
   "cell_type": "code",
   "execution_count": 44,
   "id": "fifty-person",
   "metadata": {
    "_kg_hide-input": true,
    "execution": {
     "iopub.execute_input": "2021-04-15T19:37:01.975358Z",
     "iopub.status.busy": "2021-04-15T19:37:01.974677Z",
     "iopub.status.idle": "2021-04-15T19:37:01.983131Z",
     "shell.execute_reply": "2021-04-15T19:37:01.983600Z"
    },
    "papermill": {
     "duration": 0.052234,
     "end_time": "2021-04-15T19:37:01.983792",
     "exception": false,
     "start_time": "2021-04-15T19:37:01.931558",
     "status": "completed"
    },
    "tags": []
   },
   "outputs": [],
   "source": [
    "numeric_var = [\"age\",\"trestbps\",\"chol\",\"thalach\",\"oldpeak\"]\n",
    "categorical_var = [\"sex\",\"cp\",\"fbs\",\"restecg\",\"exang\",\"slope\",\"ca\",\"thal\",\"target\"]"
   ]
  },
  {
   "cell_type": "markdown",
   "id": "acoustic-concrete",
   "metadata": {
    "papermill": {
     "duration": 0.040857,
     "end_time": "2021-04-15T19:37:02.065279",
     "exception": false,
     "start_time": "2021-04-15T19:37:02.024422",
     "status": "completed"
    },
    "tags": []
   },
   "source": [
    "##### 2.3.5 Summary statistics"
   ]
  },
  {
   "cell_type": "code",
   "execution_count": 11,
   "id": "future-preference",
   "metadata": {
    "_kg_hide-input": true,
    "execution": {
     "iopub.execute_input": "2021-04-15T19:37:02.158481Z",
     "iopub.status.busy": "2021-04-15T19:37:02.157419Z",
     "iopub.status.idle": "2021-04-15T19:37:02.185218Z",
     "shell.execute_reply": "2021-04-15T19:37:02.184598Z"
    },
    "papermill": {
     "duration": 0.078089,
     "end_time": "2021-04-15T19:37:02.185358",
     "exception": false,
     "start_time": "2021-04-15T19:37:02.107269",
     "status": "completed"
    },
    "tags": []
   },
   "outputs": [
    {
     "data": {
      "text/html": [
       "<div>\n",
       "<style scoped>\n",
       "    .dataframe tbody tr th:only-of-type {\n",
       "        vertical-align: middle;\n",
       "    }\n",
       "\n",
       "    .dataframe tbody tr th {\n",
       "        vertical-align: top;\n",
       "    }\n",
       "\n",
       "    .dataframe thead th {\n",
       "        text-align: right;\n",
       "    }\n",
       "</style>\n",
       "<table border=\"1\" class=\"dataframe\">\n",
       "  <thead>\n",
       "    <tr style=\"text-align: right;\">\n",
       "      <th></th>\n",
       "      <th>count</th>\n",
       "      <th>unique</th>\n",
       "      <th>top</th>\n",
       "      <th>freq</th>\n",
       "      <th>mean</th>\n",
       "      <th>std</th>\n",
       "      <th>min</th>\n",
       "      <th>25%</th>\n",
       "      <th>50%</th>\n",
       "      <th>75%</th>\n",
       "      <th>max</th>\n",
       "    </tr>\n",
       "  </thead>\n",
       "  <tbody>\n",
       "    <tr>\n",
       "      <th>age</th>\n",
       "      <td>920.0</td>\n",
       "      <td>NaN</td>\n",
       "      <td>NaN</td>\n",
       "      <td>NaN</td>\n",
       "      <td>53.51087</td>\n",
       "      <td>9.424685</td>\n",
       "      <td>28.0</td>\n",
       "      <td>47.0</td>\n",
       "      <td>54.0</td>\n",
       "      <td>60.0</td>\n",
       "      <td>77.0</td>\n",
       "    </tr>\n",
       "    <tr>\n",
       "      <th>trestbps</th>\n",
       "      <td>920</td>\n",
       "      <td>103</td>\n",
       "      <td>120</td>\n",
       "      <td>94</td>\n",
       "      <td>NaN</td>\n",
       "      <td>NaN</td>\n",
       "      <td>NaN</td>\n",
       "      <td>NaN</td>\n",
       "      <td>NaN</td>\n",
       "      <td>NaN</td>\n",
       "      <td>NaN</td>\n",
       "    </tr>\n",
       "    <tr>\n",
       "      <th>chol</th>\n",
       "      <td>920.0</td>\n",
       "      <td>336.0</td>\n",
       "      <td>0.0</td>\n",
       "      <td>123.0</td>\n",
       "      <td>NaN</td>\n",
       "      <td>NaN</td>\n",
       "      <td>NaN</td>\n",
       "      <td>NaN</td>\n",
       "      <td>NaN</td>\n",
       "      <td>NaN</td>\n",
       "      <td>NaN</td>\n",
       "    </tr>\n",
       "    <tr>\n",
       "      <th>thalach</th>\n",
       "      <td>920</td>\n",
       "      <td>198</td>\n",
       "      <td>?</td>\n",
       "      <td>55</td>\n",
       "      <td>NaN</td>\n",
       "      <td>NaN</td>\n",
       "      <td>NaN</td>\n",
       "      <td>NaN</td>\n",
       "      <td>NaN</td>\n",
       "      <td>NaN</td>\n",
       "      <td>NaN</td>\n",
       "    </tr>\n",
       "    <tr>\n",
       "      <th>oldpeak</th>\n",
       "      <td>920.0</td>\n",
       "      <td>82.0</td>\n",
       "      <td>0.0</td>\n",
       "      <td>288.0</td>\n",
       "      <td>NaN</td>\n",
       "      <td>NaN</td>\n",
       "      <td>NaN</td>\n",
       "      <td>NaN</td>\n",
       "      <td>NaN</td>\n",
       "      <td>NaN</td>\n",
       "      <td>NaN</td>\n",
       "    </tr>\n",
       "  </tbody>\n",
       "</table>\n",
       "</div>"
      ],
      "text/plain": [
       "          count unique  top   freq      mean       std   min   25%   50%  \\\n",
       "age       920.0    NaN  NaN    NaN  53.51087  9.424685  28.0  47.0  54.0   \n",
       "trestbps    920    103  120     94       NaN       NaN   NaN   NaN   NaN   \n",
       "chol      920.0  336.0  0.0  123.0       NaN       NaN   NaN   NaN   NaN   \n",
       "thalach     920    198    ?     55       NaN       NaN   NaN   NaN   NaN   \n",
       "oldpeak   920.0   82.0  0.0  288.0       NaN       NaN   NaN   NaN   NaN   \n",
       "\n",
       "           75%   max  \n",
       "age       60.0  77.0  \n",
       "trestbps   NaN   NaN  \n",
       "chol       NaN   NaN  \n",
       "thalach    NaN   NaN  \n",
       "oldpeak    NaN   NaN  "
      ]
     },
     "execution_count": 11,
     "metadata": {},
     "output_type": "execute_result"
    }
   ],
   "source": [
    "heart_df[numeric_var].describe(include='all').T"
   ]
  },
  {
   "cell_type": "markdown",
   "id": "13b5cdb9",
   "metadata": {},
   "source": [
    "#### It is clear that the data above cannot be included in Summary statistics  as there are non numeric values in the data. further exploreation is a must prior proceeding with the case."
   ]
  },
  {
   "cell_type": "markdown",
   "id": "educated-peoples",
   "metadata": {
    "papermill": {
     "duration": 0.040629,
     "end_time": "2021-04-15T19:37:02.267050",
     "exception": false,
     "start_time": "2021-04-15T19:37:02.226421",
     "status": "completed"
    },
    "tags": []
   },
   "source": [
    "##### 2.3.6 Missing values"
   ]
  },
  {
   "cell_type": "code",
   "execution_count": 12,
   "id": "02a75a05",
   "metadata": {},
   "outputs": [
    {
     "name": "stdout",
     "output_type": "stream",
     "text": [
      "age\n",
      "[63. 67. 37. 41. 56. 62. 57. 53. 44. 52. 48. 54. 49. 64. 58. 60. 50. 66.\n",
      " 43. 40. 69. 59. 42. 55. 61. 65. 71. 51. 46. 45. 39. 68. 47. 34. 35. 29.\n",
      " 70. 77. 38. 74. 76. 28. 30. 31. 32. 33. 36. 72. 75. 73.]\n",
      "value count for ? vaue\n",
      "0\n",
      "==============================\n",
      "sex\n",
      "[1. 0.]\n",
      "value count for ? vaue\n",
      "0\n",
      "==============================\n",
      "cp\n",
      "[1. 4. 3. 2.]\n",
      "value count for ? vaue\n",
      "0\n",
      "==============================\n",
      "trestbps\n",
      "[145.0 160.0 120.0 130.0 140.0 172.0 150.0 110.0 132.0 117.0 135.0 112.0\n",
      " 105.0 124.0 125.0 142.0 128.0 170.0 155.0 104.0 180.0 138.0 108.0 134.0\n",
      " 122.0 115.0 118.0 100.0 200.0 94.0 165.0 102.0 152.0 101.0 126.0 174.0\n",
      " 148.0 178.0 158.0 192.0 129.0 144.0 123.0 136.0 146.0 106.0 156.0 154.0\n",
      " 114.0 164.0 '130' '120' '140' '170' '100' '105' '110' '125' '150' '98'\n",
      " '112' '145' '190' '160' '115' '142' '180' '132' '135' '?' '108' '124'\n",
      " '113' '122' '92' '118' '106' '200' '138' '136' '128' '155' '126' '152'\n",
      " '116' '0' '144' '154' '104' '134' '178' '146' '158' '102' '96' '172'\n",
      " '156' '114' '127' '95' '165' '80' '185']\n",
      "value count for ? vaue\n",
      "59\n",
      "==============================\n",
      "chol\n",
      "[233.0 286.0 229.0 250.0 204.0 236.0 268.0 354.0 254.0 203.0 192.0 294.0\n",
      " 256.0 263.0 199.0 168.0 239.0 275.0 266.0 211.0 283.0 284.0 224.0 206.0\n",
      " 219.0 340.0 226.0 247.0 167.0 230.0 335.0 234.0 177.0 276.0 353.0 243.0\n",
      " 225.0 302.0 212.0 330.0 175.0 417.0 197.0 198.0 290.0 253.0 172.0 273.0\n",
      " 213.0 305.0 216.0 304.0 188.0 282.0 185.0 232.0 326.0 231.0 269.0 267.0\n",
      " 248.0 360.0 258.0 308.0 245.0 270.0 208.0 264.0 321.0 274.0 325.0 235.0\n",
      " 257.0 164.0 141.0 252.0 255.0 201.0 222.0 260.0 182.0 303.0 265.0 309.0\n",
      " 307.0 249.0 186.0 341.0 183.0 407.0 217.0 288.0 220.0 209.0 227.0 261.0\n",
      " 174.0 281.0 221.0 205.0 240.0 289.0 318.0 298.0 564.0 246.0 322.0 299.0\n",
      " 300.0 293.0 277.0 214.0 207.0 223.0 160.0 394.0 184.0 315.0 409.0 244.0\n",
      " 195.0 196.0 126.0 313.0 259.0 200.0 262.0 215.0 228.0 193.0 271.0 210.0\n",
      " 327.0 149.0 295.0 306.0 178.0 237.0 218.0 242.0 319.0 166.0 180.0 311.0\n",
      " 278.0 342.0 169.0 187.0 157.0 176.0 241.0 131.0 '132' '243' '?' '237'\n",
      " '219' '198' '225' '254' '298' '161' '214' '220' '160' '167' '308' '264'\n",
      " '166' '340' '209' '260' '211' '173' '283' '194' '223' '315' '275' '297'\n",
      " '292' '182' '200' '204' '241' '339' '147' '273' '307' '289' '215' '281'\n",
      " '250' '184' '245' '291' '295' '269' '196' '268' '228' '358' '201' '249'\n",
      " '266' '186' '207' '218' '412' '224' '238' '230' '163' '240' '280' '257'\n",
      " '263' '276' '284' '195' '227' '253' '187' '202' '328' '168' '216' '129'\n",
      " '190' '188' '179' '210' '272' '180' '100' '259' '468' '274' '320' '221'\n",
      " '309' '312' '171' '208' '246' '305' '217' '365' '344' '394' '256' '326'\n",
      " '277' '270' '229' '85' '347' '251' '222' '287' '318' '213' '294' '193'\n",
      " '271' '156' '267' '282' '117' '466' '247' '226' '265' '206' '288' '303'\n",
      " '338' '248' '306' '529' '392' '231' '329' '355' '233' '242' '603' '255'\n",
      " '172' '175' '290' '341' '234' '342' '404' '518' '285' '279' '388' '164'\n",
      " '336' '491' '205' '212' '331' '393' '0' '236' '177' '203' '153' '316'\n",
      " '311' '252' '458' '384' '258' '235' '349' '142' '197' '192' '261' '181'\n",
      " '310' '232' '170' '369' '244' '165' '337' '300' '333' '139' '385' 0]\n",
      "value count for ? vaue\n",
      "30\n",
      "==============================\n",
      "fbs\n",
      "[1.0 0.0 '0' '?' '1']\n",
      "value count for ? vaue\n",
      "90\n",
      "==============================\n",
      "restecg\n",
      "[2.0 0.0 1.0 '2' '0' '1' '?']\n",
      "value count for ? vaue\n",
      "2\n",
      "==============================\n",
      "thalach\n",
      "[150.0 108.0 129.0 187.0 172.0 178.0 160.0 163.0 147.0 155.0 148.0 153.0\n",
      " 142.0 173.0 162.0 174.0 168.0 139.0 171.0 144.0 132.0 158.0 114.0 151.0\n",
      " 161.0 179.0 120.0 112.0 137.0 157.0 169.0 165.0 123.0 128.0 152.0 140.0\n",
      " 188.0 109.0 125.0 131.0 170.0 113.0 99.0 177.0 141.0 180.0 111.0 143.0\n",
      " 182.0 156.0 115.0 149.0 145.0 146.0 175.0 186.0 185.0 159.0 130.0 190.0\n",
      " 136.0 97.0 127.0 154.0 133.0 126.0 202.0 103.0 166.0 164.0 184.0 124.0\n",
      " 122.0 96.0 138.0 88.0 105.0 194.0 195.0 106.0 167.0 95.0 192.0 117.0\n",
      " 121.0 116.0 71.0 118.0 181.0 134.0 90.0 '185' '160' '170' '150' '165'\n",
      " '184' '155' '190' '168' '180' '178' '172' '130' '142' '98' '158' '129'\n",
      " '146' '145' '120' '106' '132' '140' '138' '167' '188' '144' '137' '136'\n",
      " '152' '175' '176' '118' '154' '115' '135' '122' '110' '90' '116' '174'\n",
      " '125' '?' '148' '100' '164' '139' '127' '162' '112' '134' '114' '128'\n",
      " '126' '124' '153' '166' '103' '156' '87' '102' '92' '99' '121' '91' '108'\n",
      " '96' '82' '105' '143' '119' '94' '149' '141' '157' '117' '86' '84' '111'\n",
      " '133' '131' '80' '107' '97' '161' '123' '69' '88' '73' '159' '113' '151'\n",
      " '93' '179' '104' '163' '60' '95' '83' '182' '63' '70' '77' '72' '78'\n",
      " '109' '67']\n",
      "value count for ? vaue\n",
      "55\n",
      "==============================\n",
      "exang\n",
      "[0.0 1.0 '0' '1' '?']\n",
      "value count for ? vaue\n",
      "55\n",
      "==============================\n",
      "oldpeak\n",
      "[2.3 1.5 2.6 3.5 1.4 0.8 3.6 0.6 3.1 0.4 1.3 0.0 0.5 1.6 1.0 1.2 0.2 1.8\n",
      " 3.2 2.4 2.0 2.5 2.2 2.8 3.0 3.4 6.2 4.0 5.6 2.9 0.1 2.1 1.9 4.2 0.9 1.1\n",
      " 3.8 0.7 0.3 4.4 5.0 '3' '0' '1.5' '2.5' '1.3' '-0.5' '2' '0.5' '1' '?'\n",
      " '1.6' '4' '3.5' '0.8' '1.7' '.7' '.2' '2.8' '-1.1' '-1.5' '.5' '-.1'\n",
      " '-2.6' '2.1' '-.7' '2.2' '.1' '.3' '-2' '-1' '1.8' '1.4' '2.6' '.9' '2.4'\n",
      " '1.1' '.4' '-.8' '-.5' '-.9' '3.7']\n",
      "value count for ? vaue\n",
      "62\n",
      "==============================\n",
      "slope\n",
      "[3.0 2.0 1.0 '?' '2' '1' '3']\n",
      "value count for ? vaue\n",
      "309\n",
      "==============================\n",
      "ca\n",
      "['0.0' '3.0' '2.0' '1.0' '?' '0' '1' '2']\n",
      "value count for ? vaue\n",
      "611\n",
      "==============================\n",
      "thal\n",
      "['6.0' '3.0' '7.0' '?' '6' '3' '7']\n",
      "value count for ? vaue\n",
      "486\n",
      "==============================\n",
      "target\n",
      "[0 2 1 3 4]\n",
      "value count for ? vaue\n",
      "0\n",
      "==============================\n"
     ]
    }
   ],
   "source": [
    "for column in heart_df.columns:\n",
    "    print(column)\n",
    "    print(heart_df[column].unique())\n",
    "    print(\"value count for ? vaue\")\n",
    "    print((heart_df[column]=='?').sum())\n",
    "    print(\"=\"*30)\n",
    "    \n"
   ]
  },
  {
   "cell_type": "code",
   "execution_count": 13,
   "id": "77ffe84e",
   "metadata": {},
   "outputs": [],
   "source": [
    "heart_df1 = heart_df[heart_df['ca']!='?']"
   ]
  },
  {
   "cell_type": "code",
   "execution_count": 14,
   "id": "41ebd1cc",
   "metadata": {},
   "outputs": [
    {
     "data": {
      "text/plain": [
       "(309, 14)"
      ]
     },
     "execution_count": 14,
     "metadata": {},
     "output_type": "execute_result"
    }
   ],
   "source": [
    "heart_df1.shape"
   ]
  },
  {
   "cell_type": "code",
   "execution_count": 15,
   "id": "80f4e8ca",
   "metadata": {},
   "outputs": [
    {
     "name": "stdout",
     "output_type": "stream",
     "text": [
      "age\n",
      "[63. 67. 37. 41. 56. 62. 57. 53. 44. 52. 48. 54. 49. 64. 58. 60. 50. 66.\n",
      " 43. 40. 69. 59. 42. 55. 61. 65. 71. 51. 46. 45. 39. 68. 47. 34. 35. 29.\n",
      " 70. 77. 38. 74. 76. 72.]\n",
      "value count for ? vaue\n",
      "0\n",
      "==============================\n",
      "sex\n",
      "[1. 0.]\n",
      "value count for ? vaue\n",
      "0\n",
      "==============================\n",
      "cp\n",
      "[1. 4. 3. 2.]\n",
      "value count for ? vaue\n",
      "0\n",
      "==============================\n",
      "trestbps\n",
      "[145.0 160.0 120.0 130.0 140.0 172.0 150.0 110.0 132.0 117.0 135.0 112.0\n",
      " 105.0 124.0 125.0 142.0 128.0 170.0 155.0 104.0 180.0 138.0 108.0 134.0\n",
      " 122.0 115.0 118.0 100.0 200.0 94.0 165.0 102.0 152.0 101.0 126.0 174.0\n",
      " 148.0 178.0 158.0 192.0 129.0 144.0 123.0 136.0 146.0 106.0 156.0 154.0\n",
      " 114.0 164.0 '120' '140' '150' '154' '110' '125' '130' '160']\n",
      "value count for ? vaue\n",
      "0\n",
      "==============================\n",
      "chol\n",
      "[233.0 286.0 229.0 250.0 204.0 236.0 268.0 354.0 254.0 203.0 192.0 294.0\n",
      " 256.0 263.0 199.0 168.0 239.0 275.0 266.0 211.0 283.0 284.0 224.0 206.0\n",
      " 219.0 340.0 226.0 247.0 167.0 230.0 335.0 234.0 177.0 276.0 353.0 243.0\n",
      " 225.0 302.0 212.0 330.0 175.0 417.0 197.0 198.0 290.0 253.0 172.0 273.0\n",
      " 213.0 305.0 216.0 304.0 188.0 282.0 185.0 232.0 326.0 231.0 269.0 267.0\n",
      " 248.0 360.0 258.0 308.0 245.0 270.0 208.0 264.0 321.0 274.0 325.0 235.0\n",
      " 257.0 164.0 141.0 252.0 255.0 201.0 222.0 260.0 182.0 303.0 265.0 309.0\n",
      " 307.0 249.0 186.0 341.0 183.0 407.0 217.0 288.0 220.0 209.0 227.0 261.0\n",
      " 174.0 281.0 221.0 205.0 240.0 289.0 318.0 298.0 564.0 246.0 322.0 299.0\n",
      " 300.0 293.0 277.0 214.0 207.0 160.0 394.0 184.0 315.0 409.0 244.0 195.0\n",
      " 196.0 126.0 313.0 259.0 200.0 262.0 215.0 228.0 193.0 271.0 210.0 327.0\n",
      " 149.0 295.0 306.0 178.0 237.0 218.0 223.0 242.0 319.0 166.0 180.0 311.0\n",
      " 278.0 342.0 169.0 187.0 157.0 176.0 241.0 131.0 '168' '?' '226' '100' '0'\n",
      " 0]\n",
      "value count for ? vaue\n",
      "1\n",
      "==============================\n",
      "fbs\n",
      "[1.0 0.0 '0' '?']\n",
      "value count for ? vaue\n",
      "5\n",
      "==============================\n",
      "restecg\n",
      "[2.0 0.0 1.0 '0' '1' '2']\n",
      "value count for ? vaue\n",
      "0\n",
      "==============================\n",
      "thalach\n",
      "[150.0 108.0 129.0 187.0 172.0 178.0 160.0 163.0 147.0 155.0 148.0 153.0\n",
      " 142.0 173.0 162.0 174.0 168.0 139.0 171.0 144.0 132.0 158.0 114.0 151.0\n",
      " 161.0 179.0 120.0 112.0 137.0 157.0 169.0 165.0 123.0 128.0 152.0 140.0\n",
      " 188.0 109.0 125.0 131.0 170.0 113.0 99.0 177.0 141.0 180.0 111.0 143.0\n",
      " 182.0 156.0 115.0 149.0 145.0 146.0 175.0 186.0 185.0 159.0 130.0 190.0\n",
      " 136.0 97.0 127.0 154.0 133.0 126.0 202.0 103.0 166.0 164.0 184.0 124.0\n",
      " 122.0 96.0 138.0 88.0 105.0 194.0 195.0 106.0 167.0 95.0 192.0 117.0\n",
      " 121.0 116.0 71.0 118.0 181.0 134.0 90.0 '160' '140' '98' '120' '131'\n",
      " '110' '130' '134' '114']\n",
      "value count for ? vaue\n",
      "0\n",
      "==============================\n",
      "exang\n",
      "[0.0 1.0 '0' '1']\n",
      "value count for ? vaue\n",
      "0\n",
      "==============================\n",
      "oldpeak\n",
      "[2.3 1.5 2.6 3.5 1.4 0.8 3.6 0.6 3.1 0.4 1.3 0.0 0.5 1.6 1.0 1.2 0.2 1.8\n",
      " 3.2 2.4 2.0 2.5 2.2 2.8 3.0 3.4 6.2 4.0 5.6 2.9 0.1 2.1 1.9 4.2 0.9 1.1\n",
      " 3.8 0.7 0.3 4.4 '1.5' '1.4' '.1' '1.1' '-.8' '1.6']\n",
      "value count for ? vaue\n",
      "0\n",
      "==============================\n",
      "slope\n",
      "[3.0 2.0 1.0 '?' '2' '1' '3']\n",
      "value count for ? vaue\n",
      "3\n",
      "==============================\n",
      "ca\n",
      "['0.0' '3.0' '2.0' '1.0' '0' '1' '2']\n",
      "value count for ? vaue\n",
      "0\n",
      "==============================\n",
      "thal\n",
      "['6.0' '3.0' '7.0' '?' '7']\n",
      "value count for ? vaue\n",
      "10\n",
      "==============================\n",
      "target\n",
      "[0 2 1 3 4]\n",
      "value count for ? vaue\n",
      "0\n",
      "==============================\n"
     ]
    }
   ],
   "source": [
    "for column in heart_df1.columns:\n",
    "    print(column)\n",
    "    print(heart_df1[column].unique())\n",
    "    print(\"value count for ? vaue\")\n",
    "    print((heart_df1[column]=='?').sum())\n",
    "    print(\"=\"*30)\n",
    "    \n"
   ]
  },
  {
   "cell_type": "code",
   "execution_count": 16,
   "id": "b45c849a",
   "metadata": {},
   "outputs": [],
   "source": [
    "heart_df1 = heart_df1[heart_df1['thal']!='?']"
   ]
  },
  {
   "cell_type": "code",
   "execution_count": 17,
   "id": "6821e833",
   "metadata": {},
   "outputs": [
    {
     "name": "stdout",
     "output_type": "stream",
     "text": [
      "age\n",
      "[63. 67. 37. 41. 56. 62. 57. 53. 44. 52. 48. 54. 49. 64. 58. 60. 50. 66.\n",
      " 43. 40. 69. 59. 42. 55. 61. 65. 71. 51. 46. 45. 39. 68. 47. 34. 35. 29.\n",
      " 70. 77. 38. 74. 76.]\n",
      "value count for ? vaue\n",
      "0\n",
      "==============================\n",
      "sex\n",
      "[1. 0.]\n",
      "value count for ? vaue\n",
      "0\n",
      "==============================\n",
      "cp\n",
      "[1. 4. 3. 2.]\n",
      "value count for ? vaue\n",
      "0\n",
      "==============================\n",
      "trestbps\n",
      "[145.0 160.0 120.0 130.0 140.0 172.0 150.0 110.0 132.0 117.0 135.0 112.0\n",
      " 105.0 124.0 125.0 142.0 128.0 170.0 155.0 104.0 180.0 138.0 108.0 134.0\n",
      " 122.0 115.0 118.0 100.0 200.0 94.0 165.0 102.0 152.0 101.0 126.0 174.0\n",
      " 148.0 178.0 158.0 192.0 129.0 144.0 123.0 136.0 146.0 106.0 156.0 154.0\n",
      " 114.0 164.0 '150' '120']\n",
      "value count for ? vaue\n",
      "0\n",
      "==============================\n",
      "chol\n",
      "[233.0 286.0 229.0 250.0 204.0 236.0 268.0 354.0 254.0 203.0 192.0 294.0\n",
      " 256.0 263.0 199.0 168.0 239.0 275.0 266.0 211.0 283.0 284.0 224.0 206.0\n",
      " 219.0 340.0 226.0 247.0 167.0 230.0 335.0 234.0 177.0 276.0 353.0 243.0\n",
      " 225.0 302.0 212.0 330.0 175.0 417.0 197.0 198.0 290.0 253.0 172.0 273.0\n",
      " 213.0 305.0 216.0 304.0 188.0 282.0 185.0 232.0 326.0 231.0 269.0 267.0\n",
      " 248.0 360.0 258.0 308.0 245.0 270.0 208.0 264.0 321.0 274.0 325.0 235.0\n",
      " 257.0 164.0 141.0 252.0 255.0 201.0 222.0 260.0 182.0 303.0 265.0 309.0\n",
      " 307.0 249.0 186.0 341.0 183.0 407.0 217.0 288.0 220.0 209.0 227.0 261.0\n",
      " 174.0 281.0 221.0 205.0 240.0 289.0 318.0 298.0 564.0 246.0 322.0 299.0\n",
      " 300.0 293.0 277.0 214.0 207.0 160.0 394.0 184.0 315.0 409.0 244.0 195.0\n",
      " 196.0 126.0 313.0 259.0 200.0 262.0 215.0 228.0 193.0 271.0 210.0 327.0\n",
      " 149.0 295.0 306.0 178.0 237.0 218.0 223.0 242.0 319.0 166.0 180.0 311.0\n",
      " 278.0 342.0 169.0 187.0 157.0 176.0 241.0 131.0 '226' '100']\n",
      "value count for ? vaue\n",
      "0\n",
      "==============================\n",
      "fbs\n",
      "[1.0 0.0 '0']\n",
      "value count for ? vaue\n",
      "0\n",
      "==============================\n",
      "restecg\n",
      "[2.0 0.0 1.0 '0']\n",
      "value count for ? vaue\n",
      "0\n",
      "==============================\n",
      "thalach\n",
      "[150.0 108.0 129.0 187.0 172.0 178.0 160.0 163.0 147.0 155.0 148.0 153.0\n",
      " 142.0 173.0 162.0 174.0 168.0 139.0 171.0 144.0 132.0 158.0 114.0 151.0\n",
      " 161.0 179.0 120.0 112.0 137.0 157.0 169.0 165.0 123.0 128.0 152.0 140.0\n",
      " 188.0 109.0 125.0 131.0 170.0 113.0 99.0 177.0 141.0 180.0 111.0 143.0\n",
      " 182.0 156.0 149.0 145.0 146.0 175.0 186.0 185.0 159.0 130.0 190.0 136.0\n",
      " 97.0 127.0 154.0 133.0 126.0 202.0 103.0 166.0 164.0 184.0 124.0 122.0\n",
      " 96.0 138.0 88.0 105.0 194.0 195.0 106.0 115.0 167.0 95.0 192.0 117.0\n",
      " 121.0 116.0 71.0 118.0 181.0 134.0 90.0 '98' '120']\n",
      "value count for ? vaue\n",
      "0\n",
      "==============================\n",
      "exang\n",
      "[0.0 1.0 '1']\n",
      "value count for ? vaue\n",
      "0\n",
      "==============================\n",
      "oldpeak\n",
      "[2.3 1.5 2.6 3.5 1.4 0.8 3.6 0.6 3.1 0.4 1.3 0.0 0.5 1.6 1.0 1.2 0.2 1.8\n",
      " 3.2 2.4 2.0 2.5 2.2 2.8 3.0 3.4 6.2 4.0 5.6 2.9 0.1 2.1 1.9 4.2 0.9 1.1\n",
      " 3.8 0.7 0.3 4.4 '1.5']\n",
      "value count for ? vaue\n",
      "0\n",
      "==============================\n",
      "slope\n",
      "[3.0 2.0 1.0 '2']\n",
      "value count for ? vaue\n",
      "0\n",
      "==============================\n",
      "ca\n",
      "['0.0' '3.0' '2.0' '1.0' '0']\n",
      "value count for ? vaue\n",
      "0\n",
      "==============================\n",
      "thal\n",
      "['6.0' '3.0' '7.0' '7']\n",
      "value count for ? vaue\n",
      "0\n",
      "==============================\n",
      "target\n",
      "[0 2 1 3 4]\n",
      "value count for ? vaue\n",
      "0\n",
      "==============================\n"
     ]
    }
   ],
   "source": [
    "for column in heart_df1.columns:\n",
    "    print(column)\n",
    "    print(heart_df1[column].unique())\n",
    "    print(\"value count for ? vaue\")\n",
    "    print((heart_df1[column]=='?').sum())\n",
    "    print(\"=\"*30)\n",
    "    \n"
   ]
  },
  {
   "cell_type": "code",
   "execution_count": 25,
   "id": "0786b8f3",
   "metadata": {},
   "outputs": [
    {
     "data": {
      "text/plain": [
       "(299, 14)"
      ]
     },
     "execution_count": 25,
     "metadata": {},
     "output_type": "execute_result"
    }
   ],
   "source": [
    "heart_df1.shape"
   ]
  },
  {
   "cell_type": "code",
   "execution_count": 26,
   "id": "0808212a",
   "metadata": {},
   "outputs": [],
   "source": [
    "final_hd=heart_df1"
   ]
  },
  {
   "cell_type": "code",
   "execution_count": 28,
   "id": "39a28689",
   "metadata": {},
   "outputs": [
    {
     "data": {
      "text/html": [
       "<div>\n",
       "<style scoped>\n",
       "    .dataframe tbody tr th:only-of-type {\n",
       "        vertical-align: middle;\n",
       "    }\n",
       "\n",
       "    .dataframe tbody tr th {\n",
       "        vertical-align: top;\n",
       "    }\n",
       "\n",
       "    .dataframe thead th {\n",
       "        text-align: right;\n",
       "    }\n",
       "</style>\n",
       "<table border=\"1\" class=\"dataframe\">\n",
       "  <thead>\n",
       "    <tr style=\"text-align: right;\">\n",
       "      <th></th>\n",
       "      <th>count</th>\n",
       "      <th>unique</th>\n",
       "      <th>top</th>\n",
       "      <th>freq</th>\n",
       "      <th>mean</th>\n",
       "      <th>std</th>\n",
       "      <th>min</th>\n",
       "      <th>25%</th>\n",
       "      <th>50%</th>\n",
       "      <th>75%</th>\n",
       "      <th>max</th>\n",
       "    </tr>\n",
       "  </thead>\n",
       "  <tbody>\n",
       "    <tr>\n",
       "      <th>age</th>\n",
       "      <td>299.0</td>\n",
       "      <td>NaN</td>\n",
       "      <td>NaN</td>\n",
       "      <td>NaN</td>\n",
       "      <td>54.521739</td>\n",
       "      <td>9.030264</td>\n",
       "      <td>29.0</td>\n",
       "      <td>48.0</td>\n",
       "      <td>56.0</td>\n",
       "      <td>61.0</td>\n",
       "      <td>77.0</td>\n",
       "    </tr>\n",
       "    <tr>\n",
       "      <th>trestbps</th>\n",
       "      <td>299.0</td>\n",
       "      <td>52.0</td>\n",
       "      <td>120.0</td>\n",
       "      <td>37.0</td>\n",
       "      <td>NaN</td>\n",
       "      <td>NaN</td>\n",
       "      <td>NaN</td>\n",
       "      <td>NaN</td>\n",
       "      <td>NaN</td>\n",
       "      <td>NaN</td>\n",
       "      <td>NaN</td>\n",
       "    </tr>\n",
       "    <tr>\n",
       "      <th>chol</th>\n",
       "      <td>299.0</td>\n",
       "      <td>154.0</td>\n",
       "      <td>234.0</td>\n",
       "      <td>6.0</td>\n",
       "      <td>NaN</td>\n",
       "      <td>NaN</td>\n",
       "      <td>NaN</td>\n",
       "      <td>NaN</td>\n",
       "      <td>NaN</td>\n",
       "      <td>NaN</td>\n",
       "      <td>NaN</td>\n",
       "    </tr>\n",
       "    <tr>\n",
       "      <th>thalach</th>\n",
       "      <td>299.0</td>\n",
       "      <td>93.0</td>\n",
       "      <td>162.0</td>\n",
       "      <td>11.0</td>\n",
       "      <td>NaN</td>\n",
       "      <td>NaN</td>\n",
       "      <td>NaN</td>\n",
       "      <td>NaN</td>\n",
       "      <td>NaN</td>\n",
       "      <td>NaN</td>\n",
       "      <td>NaN</td>\n",
       "    </tr>\n",
       "    <tr>\n",
       "      <th>oldpeak</th>\n",
       "      <td>299.0</td>\n",
       "      <td>41.0</td>\n",
       "      <td>0.0</td>\n",
       "      <td>96.0</td>\n",
       "      <td>NaN</td>\n",
       "      <td>NaN</td>\n",
       "      <td>NaN</td>\n",
       "      <td>NaN</td>\n",
       "      <td>NaN</td>\n",
       "      <td>NaN</td>\n",
       "      <td>NaN</td>\n",
       "    </tr>\n",
       "  </tbody>\n",
       "</table>\n",
       "</div>"
      ],
      "text/plain": [
       "          count  unique    top  freq       mean       std   min   25%   50%  \\\n",
       "age       299.0     NaN    NaN   NaN  54.521739  9.030264  29.0  48.0  56.0   \n",
       "trestbps  299.0    52.0  120.0  37.0        NaN       NaN   NaN   NaN   NaN   \n",
       "chol      299.0   154.0  234.0   6.0        NaN       NaN   NaN   NaN   NaN   \n",
       "thalach   299.0    93.0  162.0  11.0        NaN       NaN   NaN   NaN   NaN   \n",
       "oldpeak   299.0    41.0    0.0  96.0        NaN       NaN   NaN   NaN   NaN   \n",
       "\n",
       "           75%   max  \n",
       "age       61.0  77.0  \n",
       "trestbps   NaN   NaN  \n",
       "chol       NaN   NaN  \n",
       "thalach    NaN   NaN  \n",
       "oldpeak    NaN   NaN  "
      ]
     },
     "execution_count": 28,
     "metadata": {},
     "output_type": "execute_result"
    }
   ],
   "source": [
    "final_hd[numeric_var].describe(include='all').T"
   ]
  },
  {
   "cell_type": "code",
   "execution_count": 31,
   "id": "2a80cf12",
   "metadata": {},
   "outputs": [
    {
     "name": "stdout",
     "output_type": "stream",
     "text": [
      "<class 'pandas.core.frame.DataFrame'>\n",
      "Int64Index: 299 entries, 0 to 28\n",
      "Data columns (total 14 columns):\n",
      " #   Column    Non-Null Count  Dtype  \n",
      "---  ------    --------------  -----  \n",
      " 0   age       299 non-null    float64\n",
      " 1   sex       299 non-null    float64\n",
      " 2   cp        299 non-null    float64\n",
      " 3   trestbps  299 non-null    object \n",
      " 4   chol      299 non-null    object \n",
      " 5   fbs       299 non-null    object \n",
      " 6   restecg   299 non-null    object \n",
      " 7   thalach   299 non-null    object \n",
      " 8   exang     299 non-null    object \n",
      " 9   oldpeak   299 non-null    object \n",
      " 10  slope     299 non-null    object \n",
      " 11  ca        299 non-null    object \n",
      " 12  thal      299 non-null    object \n",
      " 13  target    299 non-null    int64  \n",
      "dtypes: float64(3), int64(1), object(10)\n",
      "memory usage: 35.0+ KB\n"
     ]
    }
   ],
   "source": [
    "final_hd.info()"
   ]
  },
  {
   "cell_type": "code",
   "execution_count": 34,
   "id": "b477169f",
   "metadata": {},
   "outputs": [],
   "source": [
    "final_hd[numeric_var] = final_hd[numeric_var].astype('float64')"
   ]
  },
  {
   "cell_type": "code",
   "execution_count": 35,
   "id": "90bf77ca",
   "metadata": {},
   "outputs": [
    {
     "name": "stdout",
     "output_type": "stream",
     "text": [
      "<class 'pandas.core.frame.DataFrame'>\n",
      "Int64Index: 299 entries, 0 to 28\n",
      "Data columns (total 14 columns):\n",
      " #   Column    Non-Null Count  Dtype  \n",
      "---  ------    --------------  -----  \n",
      " 0   age       299 non-null    float64\n",
      " 1   sex       299 non-null    float64\n",
      " 2   cp        299 non-null    float64\n",
      " 3   trestbps  299 non-null    float64\n",
      " 4   chol      299 non-null    float64\n",
      " 5   fbs       299 non-null    object \n",
      " 6   restecg   299 non-null    object \n",
      " 7   thalach   299 non-null    float64\n",
      " 8   exang     299 non-null    object \n",
      " 9   oldpeak   299 non-null    float64\n",
      " 10  slope     299 non-null    object \n",
      " 11  ca        299 non-null    object \n",
      " 12  thal      299 non-null    object \n",
      " 13  target    299 non-null    int64  \n",
      "dtypes: float64(7), int64(1), object(6)\n",
      "memory usage: 35.0+ KB\n"
     ]
    }
   ],
   "source": [
    "final_hd.info()"
   ]
  },
  {
   "cell_type": "code",
   "execution_count": 36,
   "id": "8df04be6",
   "metadata": {},
   "outputs": [
    {
     "data": {
      "text/html": [
       "<div>\n",
       "<style scoped>\n",
       "    .dataframe tbody tr th:only-of-type {\n",
       "        vertical-align: middle;\n",
       "    }\n",
       "\n",
       "    .dataframe tbody tr th {\n",
       "        vertical-align: top;\n",
       "    }\n",
       "\n",
       "    .dataframe thead th {\n",
       "        text-align: right;\n",
       "    }\n",
       "</style>\n",
       "<table border=\"1\" class=\"dataframe\">\n",
       "  <thead>\n",
       "    <tr style=\"text-align: right;\">\n",
       "      <th></th>\n",
       "      <th>count</th>\n",
       "      <th>mean</th>\n",
       "      <th>std</th>\n",
       "      <th>min</th>\n",
       "      <th>25%</th>\n",
       "      <th>50%</th>\n",
       "      <th>75%</th>\n",
       "      <th>max</th>\n",
       "    </tr>\n",
       "  </thead>\n",
       "  <tbody>\n",
       "    <tr>\n",
       "      <th>age</th>\n",
       "      <td>299.0</td>\n",
       "      <td>54.521739</td>\n",
       "      <td>9.030264</td>\n",
       "      <td>29.0</td>\n",
       "      <td>48.0</td>\n",
       "      <td>56.0</td>\n",
       "      <td>61.0</td>\n",
       "      <td>77.0</td>\n",
       "    </tr>\n",
       "    <tr>\n",
       "      <th>trestbps</th>\n",
       "      <td>299.0</td>\n",
       "      <td>131.715719</td>\n",
       "      <td>17.747751</td>\n",
       "      <td>94.0</td>\n",
       "      <td>120.0</td>\n",
       "      <td>130.0</td>\n",
       "      <td>140.0</td>\n",
       "      <td>200.0</td>\n",
       "    </tr>\n",
       "    <tr>\n",
       "      <th>chol</th>\n",
       "      <td>299.0</td>\n",
       "      <td>246.785953</td>\n",
       "      <td>52.532582</td>\n",
       "      <td>100.0</td>\n",
       "      <td>211.0</td>\n",
       "      <td>242.0</td>\n",
       "      <td>275.5</td>\n",
       "      <td>564.0</td>\n",
       "    </tr>\n",
       "    <tr>\n",
       "      <th>thalach</th>\n",
       "      <td>299.0</td>\n",
       "      <td>149.327759</td>\n",
       "      <td>23.121062</td>\n",
       "      <td>71.0</td>\n",
       "      <td>132.5</td>\n",
       "      <td>152.0</td>\n",
       "      <td>165.5</td>\n",
       "      <td>202.0</td>\n",
       "    </tr>\n",
       "    <tr>\n",
       "      <th>oldpeak</th>\n",
       "      <td>299.0</td>\n",
       "      <td>1.058528</td>\n",
       "      <td>1.162769</td>\n",
       "      <td>0.0</td>\n",
       "      <td>0.0</td>\n",
       "      <td>0.8</td>\n",
       "      <td>1.6</td>\n",
       "      <td>6.2</td>\n",
       "    </tr>\n",
       "  </tbody>\n",
       "</table>\n",
       "</div>"
      ],
      "text/plain": [
       "          count        mean        std    min    25%    50%    75%    max\n",
       "age       299.0   54.521739   9.030264   29.0   48.0   56.0   61.0   77.0\n",
       "trestbps  299.0  131.715719  17.747751   94.0  120.0  130.0  140.0  200.0\n",
       "chol      299.0  246.785953  52.532582  100.0  211.0  242.0  275.5  564.0\n",
       "thalach   299.0  149.327759  23.121062   71.0  132.5  152.0  165.5  202.0\n",
       "oldpeak   299.0    1.058528   1.162769    0.0    0.0    0.8    1.6    6.2"
      ]
     },
     "execution_count": 36,
     "metadata": {},
     "output_type": "execute_result"
    }
   ],
   "source": [
    "final_hd[numeric_var].describe().T"
   ]
  },
  {
   "cell_type": "code",
   "execution_count": 50,
   "id": "519c44e1",
   "metadata": {},
   "outputs": [
    {
     "name": "stdout",
     "output_type": "stream",
     "text": [
      "<class 'pandas.core.frame.DataFrame'>\n",
      "Int64Index: 299 entries, 0 to 28\n",
      "Data columns (total 9 columns):\n",
      " #   Column   Non-Null Count  Dtype  \n",
      "---  ------   --------------  -----  \n",
      " 0   sex      299 non-null    float64\n",
      " 1   cp       299 non-null    float64\n",
      " 2   fbs      299 non-null    object \n",
      " 3   restecg  299 non-null    object \n",
      " 4   exang    299 non-null    object \n",
      " 5   slope    299 non-null    object \n",
      " 6   ca       299 non-null    object \n",
      " 7   thal     299 non-null    object \n",
      " 8   target   299 non-null    int64  \n",
      "dtypes: float64(2), int64(1), object(6)\n",
      "memory usage: 23.4+ KB\n"
     ]
    }
   ],
   "source": [
    "final_hd[categorical_var].info()"
   ]
  },
  {
   "cell_type": "markdown",
   "id": "4e8905ab",
   "metadata": {},
   "source": [
    "##### Very important step to remove decimals from cetgorical values to be able to plot it and see actual pentration of each category"
   ]
  },
  {
   "cell_type": "code",
   "execution_count": 54,
   "id": "a9383766",
   "metadata": {},
   "outputs": [],
   "source": [
    "final_hd[categorical_var]=final_hd[categorical_var].astype('int64')"
   ]
  },
  {
   "cell_type": "code",
   "execution_count": 56,
   "id": "278e77de",
   "metadata": {},
   "outputs": [],
   "source": [
    "final_hd[categorical_var] =final_hd[categorical_var].astype('object')"
   ]
  },
  {
   "cell_type": "code",
   "execution_count": 57,
   "id": "526f4927",
   "metadata": {},
   "outputs": [
    {
     "data": {
      "text/html": [
       "<div>\n",
       "<style scoped>\n",
       "    .dataframe tbody tr th:only-of-type {\n",
       "        vertical-align: middle;\n",
       "    }\n",
       "\n",
       "    .dataframe tbody tr th {\n",
       "        vertical-align: top;\n",
       "    }\n",
       "\n",
       "    .dataframe thead th {\n",
       "        text-align: right;\n",
       "    }\n",
       "</style>\n",
       "<table border=\"1\" class=\"dataframe\">\n",
       "  <thead>\n",
       "    <tr style=\"text-align: right;\">\n",
       "      <th></th>\n",
       "      <th>age</th>\n",
       "      <th>sex</th>\n",
       "      <th>cp</th>\n",
       "      <th>trestbps</th>\n",
       "      <th>chol</th>\n",
       "      <th>fbs</th>\n",
       "      <th>restecg</th>\n",
       "      <th>thalach</th>\n",
       "      <th>exang</th>\n",
       "      <th>oldpeak</th>\n",
       "      <th>slope</th>\n",
       "      <th>ca</th>\n",
       "      <th>thal</th>\n",
       "      <th>target</th>\n",
       "    </tr>\n",
       "  </thead>\n",
       "  <tbody>\n",
       "    <tr>\n",
       "      <th>0</th>\n",
       "      <td>63.0</td>\n",
       "      <td>1</td>\n",
       "      <td>1</td>\n",
       "      <td>145.0</td>\n",
       "      <td>233.0</td>\n",
       "      <td>1</td>\n",
       "      <td>2</td>\n",
       "      <td>150.0</td>\n",
       "      <td>0</td>\n",
       "      <td>2.3</td>\n",
       "      <td>3</td>\n",
       "      <td>0</td>\n",
       "      <td>6</td>\n",
       "      <td>0</td>\n",
       "    </tr>\n",
       "    <tr>\n",
       "      <th>1</th>\n",
       "      <td>67.0</td>\n",
       "      <td>1</td>\n",
       "      <td>4</td>\n",
       "      <td>160.0</td>\n",
       "      <td>286.0</td>\n",
       "      <td>0</td>\n",
       "      <td>2</td>\n",
       "      <td>108.0</td>\n",
       "      <td>1</td>\n",
       "      <td>1.5</td>\n",
       "      <td>2</td>\n",
       "      <td>3</td>\n",
       "      <td>3</td>\n",
       "      <td>2</td>\n",
       "    </tr>\n",
       "    <tr>\n",
       "      <th>2</th>\n",
       "      <td>67.0</td>\n",
       "      <td>1</td>\n",
       "      <td>4</td>\n",
       "      <td>120.0</td>\n",
       "      <td>229.0</td>\n",
       "      <td>0</td>\n",
       "      <td>2</td>\n",
       "      <td>129.0</td>\n",
       "      <td>1</td>\n",
       "      <td>2.6</td>\n",
       "      <td>2</td>\n",
       "      <td>2</td>\n",
       "      <td>7</td>\n",
       "      <td>1</td>\n",
       "    </tr>\n",
       "    <tr>\n",
       "      <th>3</th>\n",
       "      <td>37.0</td>\n",
       "      <td>1</td>\n",
       "      <td>3</td>\n",
       "      <td>130.0</td>\n",
       "      <td>250.0</td>\n",
       "      <td>0</td>\n",
       "      <td>0</td>\n",
       "      <td>187.0</td>\n",
       "      <td>0</td>\n",
       "      <td>3.5</td>\n",
       "      <td>3</td>\n",
       "      <td>0</td>\n",
       "      <td>3</td>\n",
       "      <td>0</td>\n",
       "    </tr>\n",
       "    <tr>\n",
       "      <th>4</th>\n",
       "      <td>41.0</td>\n",
       "      <td>0</td>\n",
       "      <td>2</td>\n",
       "      <td>130.0</td>\n",
       "      <td>204.0</td>\n",
       "      <td>0</td>\n",
       "      <td>2</td>\n",
       "      <td>172.0</td>\n",
       "      <td>0</td>\n",
       "      <td>1.4</td>\n",
       "      <td>1</td>\n",
       "      <td>0</td>\n",
       "      <td>3</td>\n",
       "      <td>0</td>\n",
       "    </tr>\n",
       "    <tr>\n",
       "      <th>...</th>\n",
       "      <td>...</td>\n",
       "      <td>...</td>\n",
       "      <td>...</td>\n",
       "      <td>...</td>\n",
       "      <td>...</td>\n",
       "      <td>...</td>\n",
       "      <td>...</td>\n",
       "      <td>...</td>\n",
       "      <td>...</td>\n",
       "      <td>...</td>\n",
       "      <td>...</td>\n",
       "      <td>...</td>\n",
       "      <td>...</td>\n",
       "      <td>...</td>\n",
       "    </tr>\n",
       "    <tr>\n",
       "      <th>299</th>\n",
       "      <td>68.0</td>\n",
       "      <td>1</td>\n",
       "      <td>4</td>\n",
       "      <td>144.0</td>\n",
       "      <td>193.0</td>\n",
       "      <td>1</td>\n",
       "      <td>0</td>\n",
       "      <td>141.0</td>\n",
       "      <td>0</td>\n",
       "      <td>3.4</td>\n",
       "      <td>2</td>\n",
       "      <td>2</td>\n",
       "      <td>7</td>\n",
       "      <td>2</td>\n",
       "    </tr>\n",
       "    <tr>\n",
       "      <th>300</th>\n",
       "      <td>57.0</td>\n",
       "      <td>1</td>\n",
       "      <td>4</td>\n",
       "      <td>130.0</td>\n",
       "      <td>131.0</td>\n",
       "      <td>0</td>\n",
       "      <td>0</td>\n",
       "      <td>115.0</td>\n",
       "      <td>1</td>\n",
       "      <td>1.2</td>\n",
       "      <td>2</td>\n",
       "      <td>1</td>\n",
       "      <td>7</td>\n",
       "      <td>3</td>\n",
       "    </tr>\n",
       "    <tr>\n",
       "      <th>301</th>\n",
       "      <td>57.0</td>\n",
       "      <td>0</td>\n",
       "      <td>2</td>\n",
       "      <td>130.0</td>\n",
       "      <td>236.0</td>\n",
       "      <td>0</td>\n",
       "      <td>2</td>\n",
       "      <td>174.0</td>\n",
       "      <td>0</td>\n",
       "      <td>0.0</td>\n",
       "      <td>2</td>\n",
       "      <td>1</td>\n",
       "      <td>3</td>\n",
       "      <td>1</td>\n",
       "    </tr>\n",
       "    <tr>\n",
       "      <th>205</th>\n",
       "      <td>47.0</td>\n",
       "      <td>1</td>\n",
       "      <td>4</td>\n",
       "      <td>150.0</td>\n",
       "      <td>226.0</td>\n",
       "      <td>0</td>\n",
       "      <td>0</td>\n",
       "      <td>98.0</td>\n",
       "      <td>1</td>\n",
       "      <td>1.5</td>\n",
       "      <td>2</td>\n",
       "      <td>0</td>\n",
       "      <td>7</td>\n",
       "      <td>1</td>\n",
       "    </tr>\n",
       "    <tr>\n",
       "      <th>28</th>\n",
       "      <td>56.0</td>\n",
       "      <td>1</td>\n",
       "      <td>4</td>\n",
       "      <td>120.0</td>\n",
       "      <td>100.0</td>\n",
       "      <td>0</td>\n",
       "      <td>0</td>\n",
       "      <td>120.0</td>\n",
       "      <td>1</td>\n",
       "      <td>1.5</td>\n",
       "      <td>2</td>\n",
       "      <td>0</td>\n",
       "      <td>7</td>\n",
       "      <td>1</td>\n",
       "    </tr>\n",
       "  </tbody>\n",
       "</table>\n",
       "<p>299 rows × 14 columns</p>\n",
       "</div>"
      ],
      "text/plain": [
       "      age sex cp  trestbps   chol fbs restecg  thalach exang  oldpeak slope  \\\n",
       "0    63.0   1  1     145.0  233.0   1       2    150.0     0      2.3     3   \n",
       "1    67.0   1  4     160.0  286.0   0       2    108.0     1      1.5     2   \n",
       "2    67.0   1  4     120.0  229.0   0       2    129.0     1      2.6     2   \n",
       "3    37.0   1  3     130.0  250.0   0       0    187.0     0      3.5     3   \n",
       "4    41.0   0  2     130.0  204.0   0       2    172.0     0      1.4     1   \n",
       "..    ...  .. ..       ...    ...  ..     ...      ...   ...      ...   ...   \n",
       "299  68.0   1  4     144.0  193.0   1       0    141.0     0      3.4     2   \n",
       "300  57.0   1  4     130.0  131.0   0       0    115.0     1      1.2     2   \n",
       "301  57.0   0  2     130.0  236.0   0       2    174.0     0      0.0     2   \n",
       "205  47.0   1  4     150.0  226.0   0       0     98.0     1      1.5     2   \n",
       "28   56.0   1  4     120.0  100.0   0       0    120.0     1      1.5     2   \n",
       "\n",
       "    ca thal target  \n",
       "0    0    6      0  \n",
       "1    3    3      2  \n",
       "2    2    7      1  \n",
       "3    0    3      0  \n",
       "4    0    3      0  \n",
       "..  ..  ...    ...  \n",
       "299  2    7      2  \n",
       "300  1    7      3  \n",
       "301  1    3      1  \n",
       "205  0    7      1  \n",
       "28   0    7      1  \n",
       "\n",
       "[299 rows x 14 columns]"
      ]
     },
     "execution_count": 57,
     "metadata": {},
     "output_type": "execute_result"
    }
   ],
   "source": [
    "final_hd"
   ]
  },
  {
   "cell_type": "markdown",
   "id": "previous-ticket",
   "metadata": {
    "papermill": {
     "duration": 0.041264,
     "end_time": "2021-04-15T19:37:02.446201",
     "exception": false,
     "start_time": "2021-04-15T19:37:02.404937",
     "status": "completed"
    },
    "tags": []
   },
   "source": [
    "### 3. Exploratory Data Analysis <a id=8></a>"
   ]
  },
  {
   "cell_type": "markdown",
   "id": "rural-miracle",
   "metadata": {
    "papermill": {
     "duration": 0.041421,
     "end_time": "2021-04-15T19:37:02.529523",
     "exception": false,
     "start_time": "2021-04-15T19:37:02.488102",
     "status": "completed"
    },
    "tags": []
   },
   "source": [
    "#### 3.1 Univariate Analysis <a id=9></a>"
   ]
  },
  {
   "cell_type": "markdown",
   "id": "lasting-upper",
   "metadata": {
    "papermill": {
     "duration": 0.041627,
     "end_time": "2021-04-15T19:37:02.612992",
     "exception": false,
     "start_time": "2021-04-15T19:37:02.571365",
     "status": "completed"
    },
    "tags": []
   },
   "source": [
    "##### 3.1.1 Histplot for Numerical Values"
   ]
  },
  {
   "cell_type": "code",
   "execution_count": 58,
   "id": "attached-joseph",
   "metadata": {
    "_kg_hide-input": true,
    "execution": {
     "iopub.execute_input": "2021-04-15T19:37:02.712684Z",
     "iopub.status.busy": "2021-04-15T19:37:02.707359Z",
     "iopub.status.idle": "2021-04-15T19:37:03.759964Z",
     "shell.execute_reply": "2021-04-15T19:37:03.759311Z"
    },
    "papermill": {
     "duration": 1.105125,
     "end_time": "2021-04-15T19:37:03.760116",
     "exception": false,
     "start_time": "2021-04-15T19:37:02.654991",
     "status": "completed"
    },
    "tags": []
   },
   "outputs": [
    {
     "data": {
      "text/plain": [
       "<Figure size 864x720 with 0 Axes>"
      ]
     },
     "metadata": {},
     "output_type": "display_data"
    },
    {
     "data": {
      "image/png": "[encoded data removed]",
      "text/plain": [
       "<Figure size 360x360 with 1 Axes>"
      ]
     },
     "metadata": {},
     "output_type": "display_data"
    },
    {
     "data": {
      "text/plain": [
       "<Figure size 864x720 with 0 Axes>"
      ]
     },
     "metadata": {},
     "output_type": "display_data"
    },
    {
     "data": {
      "image/png": "[encoded data removed]",
      "text/plain": [
       "<Figure size 360x360 with 1 Axes>"
      ]
     },
     "metadata": {},
     "output_type": "display_data"
    },
    {
     "data": {
      "text/plain": [
       "<Figure size 864x720 with 0 Axes>"
      ]
     },
     "metadata": {},
     "output_type": "display_data"
    },
    {
     "data": {
      "image/png": "[encoded data removed]",
      "text/plain": [
       "<Figure size 360x360 with 1 Axes>"
      ]
     },
     "metadata": {},
     "output_type": "display_data"
    },
    {
     "data": {
      "text/plain": [
       "<Figure size 864x720 with 0 Axes>"
      ]
     },
     "metadata": {},
     "output_type": "display_data"
    },
    {
     "data": {
      "image/png": "[encoded data removed]",
      "text/plain": [
       "<Figure size 360x360 with 1 Axes>"
      ]
     },
     "metadata": {},
     "output_type": "display_data"
    },
    {
     "data": {
      "text/plain": [
       "<Figure size 864x720 with 0 Axes>"
      ]
     },
     "metadata": {},
     "output_type": "display_data"
    },
    {
     "data": {
      "image/png": "[encoded data removed]",
      "text/plain": [
       "<Figure size 360x360 with 1 Axes>"
      ]
     },
     "metadata": {},
     "output_type": "display_data"
    }
   ],
   "source": [
    "font_dict = {'fontsize': 15,'fontweight': 'bold','color': 'red'}\n",
    "for item in numeric_var:\n",
    "    plt.figure(figsize=(12,10))\n",
    "    sns.displot(final_hd[item],color='b',bins = 20,)\n",
    "    plt.axvline(final_hd[item].mean(),color='r',ls='--')\n",
    "    plt.title(item.title(),font_dict)\n",
    "    plt.tight_layout()\n",
    "    plt.show()"
   ]
  },
  {
   "cell_type": "markdown",
   "id": "mental-residence",
   "metadata": {
    "papermill": {
     "duration": 0.043706,
     "end_time": "2021-04-15T19:37:03.848058",
     "exception": false,
     "start_time": "2021-04-15T19:37:03.804352",
     "status": "completed"
    },
    "tags": []
   },
   "source": [
    "##### 3.1.2 Pie Charts for Categorical Variable"
   ]
  },
  {
   "cell_type": "code",
   "execution_count": 59,
   "id": "abandoned-might",
   "metadata": {
    "_kg_hide-input": true,
    "execution": {
     "iopub.execute_input": "2021-04-15T19:37:03.993222Z",
     "iopub.status.busy": "2021-04-15T19:37:03.984172Z",
     "iopub.status.idle": "2021-04-15T19:37:04.582874Z",
     "shell.execute_reply": "2021-04-15T19:37:04.581733Z"
    },
    "papermill": {
     "duration": 0.687814,
     "end_time": "2021-04-15T19:37:04.583033",
     "exception": false,
     "start_time": "2021-04-15T19:37:03.895219",
     "status": "completed"
    },
    "tags": []
   },
   "outputs": [],
   "source": [
    "categoric_axis_name = ['Gender','Chest Pain','Fasting Blood Sugar','Resting Electrocargigraphic Results','Exercise Induced Angina','The Slop of ST Segement','Number of Major Vessels','Thal','Target']"
   ]
  },
  {
   "cell_type": "code",
   "execution_count": 61,
   "id": "9519a042",
   "metadata": {},
   "outputs": [
    {
     "data": {
      "text/plain": [
       "Int64Index([1, 0], dtype='int64')"
      ]
     },
     "execution_count": 61,
     "metadata": {},
     "output_type": "execute_result"
    }
   ],
   "source": [
    "final_hd['sex'].value_counts().index"
   ]
  },
  {
   "cell_type": "code",
   "execution_count": 72,
   "id": "38ed50d0",
   "metadata": {},
   "outputs": [
    {
     "data": {
      "image/png": "[encoded data removed]",
      "text/plain": [
       "<Figure size 576x576 with 1 Axes>"
      ]
     },
     "metadata": {},
     "output_type": "display_data"
    },
    {
     "data": {
      "image/png": "[encoded data removed]",
      "text/plain": [
       "<Figure size 576x576 with 1 Axes>"
      ]
     },
     "metadata": {},
     "output_type": "display_data"
    },
    {
     "data": {
      "image/png": "[encoded data removed]",
      "text/plain": [
       "<Figure size 576x576 with 1 Axes>"
      ]
     },
     "metadata": {},
     "output_type": "display_data"
    },
    {
     "data": {
      "image/png": "[encoded data removed]",
      "text/plain": [
       "<Figure size 576x576 with 1 Axes>"
      ]
     },
     "metadata": {},
     "output_type": "display_data"
    },
    {
     "data": {
      "image/png": "[encoded data removed]",
      "text/plain": [
       "<Figure size 576x576 with 1 Axes>"
      ]
     },
     "metadata": {},
     "output_type": "display_data"
    },
    {
     "data": {
      "image/png": "[encoded data removed]",
      "text/plain": [
       "<Figure size 576x576 with 1 Axes>"
      ]
     },
     "metadata": {},
     "output_type": "display_data"
    },
    {
     "data": {
      "image/png": "[encoded data removed]",
      "text/plain": [
       "<Figure size 576x576 with 1 Axes>"
      ]
     },
     "metadata": {},
     "output_type": "display_data"
    },
    {
     "data": {
      "image/png": "[encoded data removed]",
      "text/plain": [
       "<Figure size 576x576 with 1 Axes>"
      ]
     },
     "metadata": {},
     "output_type": "display_data"
    },
    {
     "data": {
      "image/png": "[encoded data removed]",
      "text/plain": [
       "<Figure size 576x576 with 1 Axes>"
      ]
     },
     "metadata": {},
     "output_type": "display_data"
    }
   ],
   "source": [
    "title_font = {'family':'arial','color':'darkred','weight':'bold','size':15}\n",
    "axis_font = {'family':'arial','color':'darkblue','weight':'bold','size':13}\n",
    "for i , z in list(zip(categorical_var,categoric_axis_name)):\n",
    "    fig,ax = plt.subplots(figsize=(8,8))\n",
    "    observation_index = list(final_hd[i].value_counts().index)\n",
    "    observation_values = list(final_hd[i].value_counts())\n",
    "    ax.pie(observation_values,labels=observation_index,autopct='%1.1f',startangle=100,frame=True)\n",
    "    plt.title(z + \"(\"+i+\")\",fontdict=title_font)\n",
    "    plt.legend()\n",
    "    "
   ]
  },
  {
   "cell_type": "markdown",
   "id": "624839ec",
   "metadata": {},
   "source": [
    "#### What is the outcome of the plotting and analysis of Numerical Data?\n",
    " * fglfkjgkljdfg\n",
    " * fjglkfjlkdfj\n",
    " * fgjlfgjldfj"
   ]
  },
  {
   "cell_type": "markdown",
   "id": "e9d60983",
   "metadata": {},
   "source": [
    "#### What is the outcome of the plotting and analysis of Categorical Data?\n",
    " * fglfkjgkljdfg\n",
    " * fjglkfjlkdfj\n",
    " * fgjlfgjldfj"
   ]
  },
  {
   "cell_type": "markdown",
   "id": "aquatic-provider",
   "metadata": {
    "papermill": {
     "duration": 0.047486,
     "end_time": "2021-04-15T19:37:05.102159",
     "exception": false,
     "start_time": "2021-04-15T19:37:05.054673",
     "status": "completed"
    },
    "tags": []
   },
   "source": [
    "#### 3.2 Bivariate Analysis <a id=10></a>"
   ]
  },
  {
   "cell_type": "markdown",
   "id": "improved-crisis",
   "metadata": {
    "papermill": {
     "duration": 0.046411,
     "end_time": "2021-04-15T19:37:05.195744",
     "exception": false,
     "start_time": "2021-04-15T19:37:05.149333",
     "status": "completed"
    },
    "tags": []
   },
   "source": [
    "##### 3.2.1 Correlation matrix of continuous features"
   ]
  },
  {
   "cell_type": "code",
   "execution_count": null,
   "id": "handmade-texture",
   "metadata": {
    "_kg_hide-input": true,
    "execution": {
     "iopub.execute_input": "2021-04-15T19:37:05.292704Z",
     "iopub.status.busy": "2021-04-15T19:37:05.292069Z",
     "iopub.status.idle": "2021-04-15T19:37:05.306686Z",
     "shell.execute_reply": "2021-04-15T19:37:05.306028Z"
    },
    "papermill": {
     "duration": 0.064421,
     "end_time": "2021-04-15T19:37:05.306842",
     "exception": false,
     "start_time": "2021-04-15T19:37:05.242421",
     "status": "completed"
    },
    "tags": []
   },
   "outputs": [],
   "source": []
  },
  {
   "cell_type": "code",
   "execution_count": null,
   "id": "frequent-ordering",
   "metadata": {
    "_kg_hide-input": true,
    "execution": {
     "iopub.execute_input": "2021-04-15T19:37:05.433270Z",
     "iopub.status.busy": "2021-04-15T19:37:05.432569Z",
     "iopub.status.idle": "2021-04-15T19:37:05.675331Z",
     "shell.execute_reply": "2021-04-15T19:37:05.674781Z"
    },
    "papermill": {
     "duration": 0.321607,
     "end_time": "2021-04-15T19:37:05.675485",
     "exception": false,
     "start_time": "2021-04-15T19:37:05.353878",
     "status": "completed"
    },
    "tags": []
   },
   "outputs": [],
   "source": []
  },
  {
   "cell_type": "markdown",
   "id": "worldwide-supplement",
   "metadata": {
    "papermill": {
     "duration": 0.048358,
     "end_time": "2021-04-15T19:37:05.772956",
     "exception": false,
     "start_time": "2021-04-15T19:37:05.724598",
     "status": "completed"
    },
    "tags": []
   },
   "source": [
    "##### 3.2.2 Scatterplot heatmap of dataframe"
   ]
  },
  {
   "cell_type": "code",
   "execution_count": null,
   "id": "foster-carpet",
   "metadata": {
    "_kg_hide-input": true,
    "execution": {
     "iopub.execute_input": "2021-04-15T19:37:05.881001Z",
     "iopub.status.busy": "2021-04-15T19:37:05.880153Z",
     "iopub.status.idle": "2021-04-15T19:37:06.676151Z",
     "shell.execute_reply": "2021-04-15T19:37:06.675600Z"
    },
    "papermill": {
     "duration": 0.853355,
     "end_time": "2021-04-15T19:37:06.676291",
     "exception": false,
     "start_time": "2021-04-15T19:37:05.822936",
     "status": "completed"
    },
    "tags": []
   },
   "outputs": [],
   "source": []
  },
  {
   "cell_type": "markdown",
   "id": "polish-wichita",
   "metadata": {
    "papermill": {
     "duration": 0.051455,
     "end_time": "2021-04-15T19:37:06.780581",
     "exception": false,
     "start_time": "2021-04-15T19:37:06.729126",
     "status": "completed"
    },
    "tags": []
   },
   "source": [
    "##### 3.2.3 Distribution of continuous features according to target variable"
   ]
  },
  {
   "cell_type": "code",
   "execution_count": null,
   "id": "returning-arcade",
   "metadata": {
    "_kg_hide-input": true,
    "execution": {
     "iopub.execute_input": "2021-04-15T19:37:06.896073Z",
     "iopub.status.busy": "2021-04-15T19:37:06.895293Z",
     "iopub.status.idle": "2021-04-15T19:37:08.358297Z",
     "shell.execute_reply": "2021-04-15T19:37:08.357696Z"
    },
    "papermill": {
     "duration": 1.525006,
     "end_time": "2021-04-15T19:37:08.358440",
     "exception": false,
     "start_time": "2021-04-15T19:37:06.833434",
     "status": "completed"
    },
    "tags": []
   },
   "outputs": [],
   "source": []
  },
  {
   "cell_type": "markdown",
   "id": "interior-sacrifice",
   "metadata": {
    "papermill": {
     "duration": 0.057422,
     "end_time": "2021-04-15T19:37:08.474898",
     "exception": false,
     "start_time": "2021-04-15T19:37:08.417476",
     "status": "completed"
    },
    "tags": []
   },
   "source": [
    "##### 3.2.4 Some other relations that seemed intuitive"
   ]
  },
  {
   "cell_type": "code",
   "execution_count": null,
   "id": "mysterious-jonathan",
   "metadata": {
    "_kg_hide-input": true,
    "_kg_hide-output": false,
    "execution": {
     "iopub.execute_input": "2021-04-15T19:37:08.626011Z",
     "iopub.status.busy": "2021-04-15T19:37:08.620270Z",
     "iopub.status.idle": "2021-04-15T19:37:10.434999Z",
     "shell.execute_reply": "2021-04-15T19:37:10.435514Z"
    },
    "papermill": {
     "duration": 1.901616,
     "end_time": "2021-04-15T19:37:10.435706",
     "exception": false,
     "start_time": "2021-04-15T19:37:08.534090",
     "status": "completed"
    },
    "tags": []
   },
   "outputs": [],
   "source": []
  },
  {
   "cell_type": "markdown",
   "id": "induced-mississippi",
   "metadata": {
    "papermill": {
     "duration": 0.063911,
     "end_time": "2021-04-15T19:37:10.567088",
     "exception": false,
     "start_time": "2021-04-15T19:37:10.503177",
     "status": "completed"
    },
    "tags": []
   },
   "source": [
    "##### 3.2.5 Pairplot according to target variable - one plot to rule them all"
   ]
  },
  {
   "cell_type": "code",
   "execution_count": null,
   "id": "brief-internship",
   "metadata": {
    "_kg_hide-input": true,
    "execution": {
     "iopub.execute_input": "2021-04-15T19:37:10.740641Z",
     "iopub.status.busy": "2021-04-15T19:37:10.727887Z",
     "iopub.status.idle": "2021-04-15T19:37:59.015878Z",
     "shell.execute_reply": "2021-04-15T19:37:59.016414Z"
    },
    "papermill": {
     "duration": 48.386456,
     "end_time": "2021-04-15T19:37:59.016605",
     "exception": false,
     "start_time": "2021-04-15T19:37:10.630149",
     "status": "completed"
    },
    "tags": []
   },
   "outputs": [],
   "source": []
  },
  {
   "cell_type": "markdown",
   "id": "interpreted-credits",
   "metadata": {
    "papermill": {
     "duration": 0.089406,
     "end_time": "2021-04-15T19:37:59.197660",
     "exception": false,
     "start_time": "2021-04-15T19:37:59.108254",
     "status": "completed"
    },
    "tags": []
   },
   "source": [
    "### 4. Data Preprocessing <a id=11></a>"
   ]
  },
  {
   "cell_type": "markdown",
   "id": "studied-spider",
   "metadata": {
    "papermill": {
     "duration": 0.088592,
     "end_time": "2021-04-15T19:37:59.375128",
     "exception": false,
     "start_time": "2021-04-15T19:37:59.286536",
     "status": "completed"
    },
    "tags": []
   },
   "source": [
    "#### 4.1 Conclusions from the EDA <a id=12></a>\n"
   ]
  },
  {
   "cell_type": "markdown",
   "id": "operational-stable",
   "metadata": {
    "papermill": {
     "duration": 0.08877,
     "end_time": "2021-04-15T19:37:59.554396",
     "exception": false,
     "start_time": "2021-04-15T19:37:59.465626",
     "status": "completed"
    },
    "tags": []
   },
   "source": [
    "#### 4.2 Packages <a id=13></a>"
   ]
  },
  {
   "cell_type": "code",
   "execution_count": null,
   "id": "compound-hardwood",
   "metadata": {
    "_kg_hide-input": true,
    "execution": {
     "iopub.execute_input": "2021-04-15T19:37:59.739194Z",
     "iopub.status.busy": "2021-04-15T19:37:59.735502Z",
     "iopub.status.idle": "2021-04-15T19:38:01.970425Z",
     "shell.execute_reply": "2021-04-15T19:38:01.969886Z"
    },
    "papermill": {
     "duration": 2.327343,
     "end_time": "2021-04-15T19:38:01.970580",
     "exception": false,
     "start_time": "2021-04-15T19:37:59.643237",
     "status": "completed"
    },
    "tags": []
   },
   "outputs": [],
   "source": []
  },
  {
   "cell_type": "markdown",
   "id": "helpful-quantum",
   "metadata": {
    "papermill": {
     "duration": 0.08895,
     "end_time": "2021-04-15T19:38:02.149372",
     "exception": false,
     "start_time": "2021-04-15T19:38:02.060422",
     "status": "completed"
    },
    "tags": []
   },
   "source": [
    "\n",
    "#### 4.3 Making features model ready <a id=14></a>"
   ]
  },
  {
   "cell_type": "markdown",
   "id": "heard-crossing",
   "metadata": {
    "papermill": {
     "duration": 0.089838,
     "end_time": "2021-04-15T19:38:02.328385",
     "exception": false,
     "start_time": "2021-04-15T19:38:02.238547",
     "status": "completed"
    },
    "tags": []
   },
   "source": [
    "##### 4.3.1 Scaling and Encoding features"
   ]
  },
  {
   "cell_type": "code",
   "execution_count": null,
   "id": "fresh-throat",
   "metadata": {
    "_kg_hide-input": true,
    "execution": {
     "iopub.execute_input": "2021-04-15T19:38:02.523225Z",
     "iopub.status.busy": "2021-04-15T19:38:02.517957Z",
     "iopub.status.idle": "2021-04-15T19:38:02.564859Z",
     "shell.execute_reply": "2021-04-15T19:38:02.564280Z"
    },
    "papermill": {
     "duration": 0.147518,
     "end_time": "2021-04-15T19:38:02.565021",
     "exception": false,
     "start_time": "2021-04-15T19:38:02.417503",
     "status": "completed"
    },
    "tags": []
   },
   "outputs": [],
   "source": []
  },
  {
   "cell_type": "markdown",
   "id": "regulated-original",
   "metadata": {
    "papermill": {
     "duration": 0.092313,
     "end_time": "2021-04-15T19:38:02.749908",
     "exception": false,
     "start_time": "2021-04-15T19:38:02.657595",
     "status": "completed"
    },
    "tags": []
   },
   "source": [
    "##### 4.3.2 Train and test split"
   ]
  },
  {
   "cell_type": "code",
   "execution_count": null,
   "id": "composed-equilibrium",
   "metadata": {
    "_kg_hide-input": true,
    "execution": {
     "iopub.execute_input": "2021-04-15T19:38:02.949326Z",
     "iopub.status.busy": "2021-04-15T19:38:02.948490Z",
     "iopub.status.idle": "2021-04-15T19:38:02.954236Z",
     "shell.execute_reply": "2021-04-15T19:38:02.953691Z"
    },
    "papermill": {
     "duration": 0.108284,
     "end_time": "2021-04-15T19:38:02.954393",
     "exception": false,
     "start_time": "2021-04-15T19:38:02.846109",
     "status": "completed"
    },
    "tags": []
   },
   "outputs": [],
   "source": []
  },
  {
   "cell_type": "markdown",
   "id": "demonstrated-multiple",
   "metadata": {
    "papermill": {
     "duration": 0.095227,
     "end_time": "2021-04-15T19:38:03.143496",
     "exception": false,
     "start_time": "2021-04-15T19:38:03.048269",
     "status": "completed"
    },
    "tags": []
   },
   "source": [
    "### 5. Modeling <a id=15></a>"
   ]
  },
  {
   "cell_type": "markdown",
   "id": "valuable-institute",
   "metadata": {
    "papermill": {
     "duration": 0.094854,
     "end_time": "2021-04-15T19:38:03.331544",
     "exception": false,
     "start_time": "2021-04-15T19:38:03.236690",
     "status": "completed"
    },
    "tags": []
   },
   "source": [
    "#### 5.1 Linear Classifiers <a id=16></a>"
   ]
  },
  {
   "cell_type": "markdown",
   "id": "flying-sensitivity",
   "metadata": {
    "papermill": {
     "duration": 0.094478,
     "end_time": "2021-04-15T19:38:03.520632",
     "exception": false,
     "start_time": "2021-04-15T19:38:03.426154",
     "status": "completed"
    },
    "tags": []
   },
   "source": [
    "##### 5.1.1 Support Vector Machines"
   ]
  },
  {
   "cell_type": "code",
   "execution_count": null,
   "id": "surprising-evening",
   "metadata": {
    "_kg_hide-input": true,
    "execution": {
     "iopub.execute_input": "2021-04-15T19:38:03.716732Z",
     "iopub.status.busy": "2021-04-15T19:38:03.715948Z",
     "iopub.status.idle": "2021-04-15T19:38:03.728164Z",
     "shell.execute_reply": "2021-04-15T19:38:03.727430Z"
    },
    "papermill": {
     "duration": 0.114333,
     "end_time": "2021-04-15T19:38:03.728333",
     "exception": false,
     "start_time": "2021-04-15T19:38:03.614000",
     "status": "completed"
    },
    "tags": []
   },
   "outputs": [],
   "source": []
  },
  {
   "cell_type": "markdown",
   "id": "modular-associate",
   "metadata": {
    "papermill": {
     "duration": 0.093635,
     "end_time": "2021-04-15T19:38:03.919314",
     "exception": false,
     "start_time": "2021-04-15T19:38:03.825679",
     "status": "completed"
    },
    "tags": []
   },
   "source": [
    "##### 5.1.2 Hyperparameter tuning of SVC"
   ]
  },
  {
   "cell_type": "code",
   "execution_count": null,
   "id": "matched-excerpt",
   "metadata": {
    "_kg_hide-input": true,
    "execution": {
     "iopub.execute_input": "2021-04-15T19:38:04.126394Z",
     "iopub.status.busy": "2021-04-15T19:38:04.120165Z",
     "iopub.status.idle": "2021-04-15T19:38:09.025949Z",
     "shell.execute_reply": "2021-04-15T19:38:09.026504Z"
    },
    "papermill": {
     "duration": 5.012909,
     "end_time": "2021-04-15T19:38:09.026704",
     "exception": false,
     "start_time": "2021-04-15T19:38:04.013795",
     "status": "completed"
    },
    "tags": []
   },
   "outputs": [],
   "source": []
  },
  {
   "cell_type": "markdown",
   "id": "headed-sheep",
   "metadata": {
    "papermill": {
     "duration": 0.094437,
     "end_time": "2021-04-15T19:38:09.217364",
     "exception": false,
     "start_time": "2021-04-15T19:38:09.122927",
     "status": "completed"
    },
    "tags": []
   },
   "source": [
    "##### 5.1.3 Logistic Regression"
   ]
  },
  {
   "cell_type": "code",
   "execution_count": null,
   "id": "allied-warrant",
   "metadata": {
    "_kg_hide-input": true,
    "execution": {
     "iopub.execute_input": "2021-04-15T19:38:09.417427Z",
     "iopub.status.busy": "2021-04-15T19:38:09.416607Z",
     "iopub.status.idle": "2021-04-15T19:38:09.437649Z",
     "shell.execute_reply": "2021-04-15T19:38:09.436787Z"
    },
    "papermill": {
     "duration": 0.124427,
     "end_time": "2021-04-15T19:38:09.437863",
     "exception": false,
     "start_time": "2021-04-15T19:38:09.313436",
     "status": "completed"
    },
    "tags": []
   },
   "outputs": [],
   "source": []
  },
  {
   "cell_type": "markdown",
   "id": "downtown-northwest",
   "metadata": {
    "papermill": {
     "duration": 0.096739,
     "end_time": "2021-04-15T19:38:09.633254",
     "exception": false,
     "start_time": "2021-04-15T19:38:09.536515",
     "status": "completed"
    },
    "tags": []
   },
   "source": [
    "#### 5.2 Tree Models <a id=17></a>"
   ]
  },
  {
   "cell_type": "markdown",
   "id": "appropriate-label",
   "metadata": {
    "papermill": {
     "duration": 0.094855,
     "end_time": "2021-04-15T19:38:09.822913",
     "exception": false,
     "start_time": "2021-04-15T19:38:09.728058",
     "status": "completed"
    },
    "tags": []
   },
   "source": [
    "##### 5.2.1 Decision Tree"
   ]
  },
  {
   "cell_type": "code",
   "execution_count": null,
   "id": "modern-mumbai",
   "metadata": {
    "_kg_hide-input": true,
    "execution": {
     "iopub.execute_input": "2021-04-15T19:38:10.026181Z",
     "iopub.status.busy": "2021-04-15T19:38:10.025298Z",
     "iopub.status.idle": "2021-04-15T19:38:10.035254Z",
     "shell.execute_reply": "2021-04-15T19:38:10.034690Z"
    },
    "papermill": {
     "duration": 0.118192,
     "end_time": "2021-04-15T19:38:10.035406",
     "exception": false,
     "start_time": "2021-04-15T19:38:09.917214",
     "status": "completed"
    },
    "tags": []
   },
   "outputs": [],
   "source": []
  },
  {
   "cell_type": "markdown",
   "id": "apparent-ethnic",
   "metadata": {
    "papermill": {
     "duration": 0.095214,
     "end_time": "2021-04-15T19:38:10.228608",
     "exception": false,
     "start_time": "2021-04-15T19:38:10.133394",
     "status": "completed"
    },
    "tags": []
   },
   "source": [
    "##### 5.2.2 Random Forest"
   ]
  },
  {
   "cell_type": "code",
   "execution_count": null,
   "id": "ancient-mongolia",
   "metadata": {
    "_kg_hide-input": true,
    "execution": {
     "iopub.execute_input": "2021-04-15T19:38:10.480490Z",
     "iopub.status.busy": "2021-04-15T19:38:10.444513Z",
     "iopub.status.idle": "2021-04-15T19:38:10.633085Z",
     "shell.execute_reply": "2021-04-15T19:38:10.632411Z"
    },
    "papermill": {
     "duration": 0.30886,
     "end_time": "2021-04-15T19:38:10.633242",
     "exception": false,
     "start_time": "2021-04-15T19:38:10.324382",
     "status": "completed"
    },
    "tags": []
   },
   "outputs": [],
   "source": []
  },
  {
   "cell_type": "code",
   "execution_count": null,
   "id": "international-dominant",
   "metadata": {
    "papermill": {
     "duration": 0.09499,
     "end_time": "2021-04-15T19:38:11.215836",
     "exception": false,
     "start_time": "2021-04-15T19:38:11.120846",
     "status": "completed"
    },
    "tags": []
   },
   "outputs": [],
   "source": []
  },
  {
   "cell_type": "code",
   "execution_count": null,
   "id": "d345c9bd",
   "metadata": {},
   "outputs": [],
   "source": []
  },
  {
   "cell_type": "markdown",
   "id": "f643436c",
   "metadata": {},
   "source": [
    "#### Conclusion on Algorithms and final outcome"
   ]
  },
  {
   "cell_type": "code",
   "execution_count": null,
   "id": "af77bc3e",
   "metadata": {},
   "outputs": [],
   "source": []
  }
 ],
 "metadata": {
  "kernelspec": {
   "display_name": "Python 3 (ipykernel)",
   "language": "python",
   "name": "python3"
  },
  "language_info": {
   "codemirror_mode": {
    "name": "ipython",
    "version": 3
   },
   "file_extension": ".py",
   "mimetype": "text/x-python",
   "name": "python",
   "nbconvert_exporter": "python",
   "pygments_lexer": "ipython3",
   "version": "3.9.4"
  },
  "papermill": {
   "default_parameters": {},
   "duration": 79.808815,
   "end_time": "2021-04-15T19:38:12.222056",
   "environment_variables": {},
   "exception": null,
   "input_path": "__notebook__.ipynb",
   "output_path": "__notebook__.ipynb",
   "parameters": {},
   "start_time": "2021-04-15T19:36:52.413241",
   "version": "2.3.2"
  }
 },
 "nbformat": 4,
 "nbformat_minor": 5
}
